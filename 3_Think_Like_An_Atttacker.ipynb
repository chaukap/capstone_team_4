{
 "cells": [
  {
   "cell_type": "code",
   "execution_count": 1,
   "metadata": {},
   "outputs": [],
   "source": [
    "import numpy as np\n",
    "import pandas as pd\n",
    "import matplotlib.pyplot as plt\n",
    "from scipy import stats\n",
    "from scipy.stats import laplace"
   ]
  },
  {
   "cell_type": "markdown",
   "metadata": {},
   "source": [
    "## 1. Differential Privacy Mechanisms : Introduction"
   ]
  },
  {
   "cell_type": "markdown",
   "metadata": {},
   "source": [
    "![Differential Privacy](./images/streamlinehq-protect-privacy-4-users-200.PNG)"
   ]
  },
  {
   "cell_type": "markdown",
   "metadata": {},
   "source": [
    "Differential privacy is a set of mechanisms for publicly sharing information about a dataset by describing the patterns of groups within the dataset while withholding information about individuals in the dataset. The goal is to enable gaining insights about a population while protecting the privacy of individuals. \n",
    "\n",
    "- Put simply, the goal of differential privacy is that if a piece of information x is not learnable about Bob without seeing the database, then x should not be learnable about Bob by observing the database.\n",
    "\n",
    "- Differential Privacy offers mathematical guarantees about the level of privacy afforded an individual.  These mathematical guarantees make the mechanisms attractive as a means of protection. \n",
    "\n",
    "- Differential Privacy mechanisms act as a filter of the true responses from queries to a database.  These filters perturb the true answers just enough to keep the contributions of individual records private. These types of queries are typically referred to as \"aggregation queries\".\n",
    "\n",
    "- In practice, if implemented appropriately, differentially private queries will return answers that are a) useful and b) keep an individual's membsherip in the database private\n",
    "\n",
    "- In theory, differential privacy results can provide mathematical gaurantees on the level of privacy afforded.  This is what makes them most attractive.\n",
    "\n",
    "- All differential privacy mechanisms work by injecting non-determinism in the output of a query.  What? Thats right, the answer returned by the query differs potentially from the true answer.\n",
    "\n",
    "- The non-determinism comes in the form of either adding \"noise\"  to the true answer (adding or subtracting a random amount fro the true answer) as is the case with **Laplacian Mechanisms** or **Gaussian Mechanisms**, or potentially returning the wrong answer some times, as is the case with **Exponential Mechanisms**.\n",
    "\n",
    "- Mathematical guarantees come in the as a function of $\\epsilon$ and $\\Delta$.  We say a mechanism is **$\\epsilon$-differentially private**.  \n",
    "\n",
    "- But practical implementations require the careful choice of $\\epsilon$ and $\\Delta$ to produce privacy in practice and useful results from queries.\n",
    "\n",
    "Next, let's explore how to set the parameters for our differential privacy mechanisms in practice."
   ]
  },
  {
   "cell_type": "markdown",
   "metadata": {},
   "source": [
    "## 2. Setting the Parameter Epsilon"
   ]
  },
  {
   "cell_type": "markdown",
   "metadata": {},
   "source": [
    "The two important paremeters in differential privacy mechanisms are **$\\epsilon$** and **$\\Delta$**.  Here we first consider the \"privacy\" parameter $\\epsilon$. The symbol may not be that familar as it never made it as a big time COVID-19 variant!"
   ]
  },
  {
   "cell_type": "markdown",
   "metadata": {},
   "source": [
    "![Epsilon](./images/epsilon.png)"
   ]
  },
  {
   "cell_type": "markdown",
   "metadata": {},
   "source": [
    " - $\\epsilon$ is the parameter that sets the level of the privacy guarantee and affects the level of utility of the results returned from queries to the database.\n",
    " \n",
    "- Recall that by adding probabilistic noise to the outcome of the mechanism just enough uncertainty is added to mask the membership of any one record in the database. $\\epsilon$ is the parameter that determines how much noise is added to the outcome.\n",
    "\n",
    "- Changes in $\\epsilon$  will impact both the privacy guarantees afforded to the members of the database and the utility of the results."
   ]
  },
  {
   "cell_type": "markdown",
   "metadata": {},
   "source": [
    "### 2.1 Selecting Epsilon for the Right Balance of Privacy and Utility"
   ]
  },
  {
   "cell_type": "markdown",
   "metadata": {},
   "source": [
    "At this point you might be wondering what happens if you set $\\epsilon$ as low as possible. **The information gained from the query result will eventually become worthlessif you lower epsilon too much!** The answer to a query will become so noisy, so skewed from the actual answer, that no insights will be able to be gained. **So balancing privacy with utility is the key!**"
   ]
  },
  {
   "cell_type": "markdown",
   "metadata": {},
   "source": [
    "### 2.2 Some Practical Facts About Epsilon and Simple DIfferential Privacy"
   ]
  },
  {
   "cell_type": "markdown",
   "metadata": {},
   "source": [
    "- Simply put $\\epsilon$ is a measure of **privacy loss**.  \n",
    "\n",
    "- Thus, higher epsilon values translate to lower privacy.  \n",
    "\n",
    "- A ‘good’ $\\epsilon$ value should be low and at the same time maintain a certain level of utility of the answers provided by the DP mechanism. \n",
    "\n",
    "- $\\epsilon$ ranges higher than 4 or 5 typically offer diminishing privacy guarantees so much so as really translte to no privacy (although the second parameter $\\Delta$ does affect this claim).\n",
    "\n",
    "- $\\epsilon$ values below 1 tend to diminish utility to the point of being impractical (so much noise in the answer its not helpful)\n",
    "\n",
    "- Simple Differential Privacy (SDP) offeres $\\epsilon$ ranges between .1 and 4, a reasonably practical range \n",
    "\n",
    "- SDP offers $\\epsilon$ offers values to be set by .1 increments \n",
    "\n",
    "- $\\epsilon$ is a setting like a water faucet the higher you turn the knob, the more privacy that leaks (or gushes) out.\n"
   ]
  },
  {
   "cell_type": "markdown",
   "metadata": {},
   "source": [
    "### 2.3 The Mathematical Relationship Between $\\epsilon$ and Privacy"
   ]
  },
  {
   "cell_type": "markdown",
   "metadata": {},
   "source": [
    "- Very generally privacy guarentees are met by bounding the differences in the probabilities of outcomes between queries from two databases that differ by only one record.\n",
    "\n",
    "- Bounding this difference protects individual records.\n",
    "\n",
    "- Very generalley turning up $\\epsilon$ one whole number, say from 1 to 2, decreases privacy by a factor of e, or 2.718 (all other parameters held equal)\n",
    "\n",
    "- The mathematics of differential privacy are such that $\\epsilon$ from 1 to 5 make the probability of an outcome being returned by a Laplace mechanism over 100 times more likely.  Thus if initially an outcome was less than 3% likely with an $\\epsilon$ value of 1 it is over 100% (not private at all) with an $\\epsilon$ of 5\n",
    "\n",
    "- If you are interested the mathematical aspects of differential privacy, subsequent notebooks take a deeper dive and present functions for experimentation with parameters and use cases."
   ]
  },
  {
   "cell_type": "markdown",
   "metadata": {},
   "source": [
    "### 2.4 Putting the Choice of $\\epsilon$  Into Practice"
   ]
  },
  {
   "cell_type": "markdown",
   "metadata": {},
   "source": [
    "As we mentioned earlier the trade-off between utility and privacy is a **inverse** relationship, privacy goes up, utility goes down. At a high level, as a general concept is depicted by the following illustration."
   ]
  },
  {
   "cell_type": "markdown",
   "metadata": {},
   "source": [
    "![Epsilon](./images/trade-off-between-privacy-and-utility.png)"
   ]
  },
  {
   "cell_type": "markdown",
   "metadata": {},
   "source": [
    "- The idea is to find the point in the trade-off that is right for each database and use case.\n",
    "- There is no exact right answer! The choice depends on the application.\n",
    "- However, examples from practical research and existing implementations can guide the choice.\n",
    "- The key is to find the point where the acceptable privacy and acceptable utility meet.\n",
    "- Utility depends on acceptable accuracy for a particular use case.\n",
    "- But acceptable ranges of epsilon tend to be centered around $\\epsilon$ = 1\n",
    "- Below is an example of an actual experiment with varying values of $\\epsilon$ and the resulting accuracy of a Bayesian classifier model."
   ]
  },
  {
   "cell_type": "markdown",
   "metadata": {},
   "source": [
    "![Epsilon](./images/Trade-off-between-privacy-and-utility-2.png)"
   ]
  },
  {
   "cell_type": "markdown",
   "metadata": {},
   "source": [
    "- This actual use case illustrates a common accuracy trade-off with increasing $\\epsilon$\n",
    "- Notice there is very little accuracy gain for $\\epsilon$ > 4\n",
    "- Notice there is very little accuracy loss for $\\epsilon$ < .1"
   ]
  },
  {
   "cell_type": "markdown",
   "metadata": {},
   "source": [
    "## 3. A Simple Example: Oski (Go Bears!) and the Balding Brown Bears"
   ]
  },
  {
   "cell_type": "markdown",
   "metadata": {},
   "source": [
    "![Oski](./images/oski.png)"
   ]
  },
  {
   "cell_type": "markdown",
   "metadata": {},
   "source": [
    "Suppose we are studying the impact of dietary habits of the brown bear and the implications of diet on the loss of fur of our salmon eating friends. The database contains a list of bears, all of whom are losing their fur.  They are balding.  No self-respecting bear wants such a sensitive fact made public. Disclosure of a bear's membership in this database means breaching the privacy of the bear's senstive attribute: they are going bald.\n",
    "\n",
    "Consider the facts around the balding bears database.\n",
    "\n",
    "- When the salmon are running large, talented and strong brown bears can catch in excess of 30 salmon per day\n",
    "- Lesser talented, \"normal\" bears tend to collect and eat 10 - 20 salmon per day\n"
   ]
  },
  {
   "cell_type": "markdown",
   "metadata": {},
   "source": [
    "![Salmon](./images/Salmo_salar.jpeg)"
   ]
  },
  {
   "cell_type": "markdown",
   "metadata": {},
   "source": [
    "Suppose we have a database of ten bears, all somewhat average brown bears, who are all balding.  Initially we have 10 bears in the database.\n",
    "\n",
    "1. Avalanche (Kutztown)\n",
    "2. Bananas (U of Maine)\n",
    "3. Benny (Morgan State)\n",
    "4. Boomer (Lake Forest)\n",
    "5. Grizz (Oakland)\n",
    "6. Kody (Cascadia)\n",
    "7. Monte (U Montana)\n",
    "8. Nanook (Bowdoin)\n",
    "9. Ranger (Drew)\n",
    "10. Scott Highlander (UC Riverside)"
   ]
  },
  {
   "cell_type": "markdown",
   "metadata": {},
   "source": [
    "On a particular day, July 30, when the salmon are running the database records the following number of fish captured by this group.\n",
    "\n",
    "[10, 13, 14, 12, 18, 14, 18, 17, 16, 12]\n",
    "\n",
    "**Note: the eating habits of this entire group falls within a reasonable range of \"normal\" brown bear daily catches!**\n"
   ]
  },
  {
   "cell_type": "markdown",
   "metadata": {},
   "source": [
    "What if we want to understand some statistics about this group of bears without divulging the actual catches of a particular brown bear?"
   ]
  },
  {
   "cell_type": "markdown",
   "metadata": {},
   "source": [
    "The true average is 14.4\n",
    "\n",
    "Using a Laplacian mechanism with **$\\epsilon$ = 1** (**reasonably high privacy**), we ask what is the differentially private average catch on July 30th? \n",
    "\n",
    " With 10 runs of the Laplacian Diffierential Privacy Mechanism the noisy average output is\n",
    " \n",
    " - 15.05\n",
    " - 10.56\n",
    " - 17.80\n",
    " - 12.74\n",
    " - 12.01\n",
    " - 17.15\n",
    " - 22.76\n",
    " - 11.34\n",
    " - 12.28\n",
    " - 15.89\n",
    " \n",
    "Here the MSE or mean square error of the 10 query results from the true average is **12.78**. That is a lot of noise relative to the true average!"
   ]
  },
  {
   "cell_type": "markdown",
   "metadata": {},
   "source": [
    "Using a Laplacian mechanism with **$\\epsilon$ = 4** (**reasonably low privacy**), we ask what is the average catch on July 30th?\n",
    "\n",
    "With 10 runs we see a much tigher band around the true answer. With higher $\\epsilon$ comes lower protection of privacy.\n",
    "\n",
    "- 14.51\n",
    "- 14.80\n",
    "- 14.75\n",
    "- 13.45\n",
    "- 15.63\n",
    "- 13.36\n",
    "- 16.20\n",
    "- 12.93\n",
    "- 12.97\n",
    "- 13.87\n",
    "\n",
    "Here the Mean Square Error of the 10 query results is **.11**.  The actual query results are close to the true answer."
   ]
  },
  {
   "cell_type": "markdown",
   "metadata": {},
   "source": [
    "What conclusions can we draw from this example?\n",
    "\n",
    "- The choice of $\\epsilon$ boils down to tolerable error in the results for a given dataset\n",
    "- One important factor is that we considered only the utility privacy trade-off for a pretty **homegeneous** group of bears. All bears ate an amount of salmon in the range of 10-18\n",
    "- With this homegenous group it is pretty hard to figure out **under either $\\epsilon$ value** whether any particular bear is in the data set.  \n",
    "\n",
    "- This distribution of data, fairly homogeneous in nature motivates a lower privacy gaurantee and more utility!  "
   ]
  },
  {
   "cell_type": "markdown",
   "metadata": {},
   "source": [
    "**What if we needed to protect the privacy of outlier bear we well, one such as Oski?**\n",
    "What if the database, in general had to protect a wider range of dietary habits of our salmon eaters? Not only is the protection important but perhaps the outliers hold the key to uncovering a cure for the balding bears?\n",
    "\n",
    "It is well known that **Oski the Cal Bear** is a giant among bears. What if we have auxillary information about Oski?  Namely, true to his school population he is talented, competitive, clever, and innovative and ee may be able to catch **40-50** salmon a day when they are running!"
   ]
  },
  {
   "cell_type": "markdown",
   "metadata": {},
   "source": [
    "**Let's add Oski to the database. To keep the fact that Oski is in this database private, it will take more work from $\\epsilon$!**"
   ]
  },
  {
   "cell_type": "markdown",
   "metadata": {},
   "source": [
    "Suppose Oski records 48 salmon caught on July 30th? Look at the results with $\\epsilon$ = 4. The true average with Oski is $17.46$.\n",
    "\n",
    "- 17.96\n",
    "- 17.24\n",
    "- 21.27\n",
    "- 16.39\n",
    "- 18.07\n",
    "- 17.54\n",
    "- 17.35\n",
    "- 17.48\n",
    "- 18.05\n",
    "- 17.17\n",
    "\n",
    "Compare these results with those where Oski is not in the database.  The noisy average with $\\epsilon$ = 4 reveals with high probability a bear who is a giant eater is in the database.  We know Oski is a skilled, voracious hunter.  Thus we can guess with better odds that Oski is probably in the database.\n",
    "\n",
    "This violates our differential privacy goal! Outliers like Oski in a database need lower values of $\\epsilon$ to mask their membership and thus protect their senstive attributes."
   ]
  },
  {
   "cell_type": "markdown",
   "metadata": {},
   "source": [
    "What if we want to effectively mask Oski's membership in the database? What $\\epsilon$ value would we need to accomplish this?\n",
    "\n",
    "Look what happens if we choose $\\epsilon$ = .5 and run the Laplace Mechanism 10 times before and after Oski is in the database.\n",
    "\n",
    "Recall the true average without Oski is 14.4 and with Oski is 17.46.\n",
    "\n",
    "\n",
    "Before:\n",
    "\n",
    "- 4.0\n",
    "- 28.53\n",
    "- 16.04\n",
    "- 14.11\n",
    "- 35.73\n",
    "- 32.66\n",
    "- 11.89\n",
    "- 10.09\n",
    "- 10.58\n",
    "- 38.85\n",
    "\n",
    "After:\n",
    "\n",
    "- 15.01\n",
    "- 15.59\n",
    "- 14.66\n",
    "- 14.74\n",
    "- 12.18\n",
    "- 47.22\n",
    "- 21.04\n",
    "- 32.38\n",
    "- 11.68\n",
    "- 20.72\n",
    "\n",
    "With an $\\epsilon$ = .5 the MSE between the cases where Oski is in the database and not in the database the MSE is 103 and 110 respectively.\n",
    "The values are so noisy as to make the probabilty of learning of his presense in the database highly unlikely!\n",
    "\n",
    "But notice the noise in the average values.  Still, the $\\epsilon$ makes Oski's membership virtually impossible to ascertain!"
   ]
  },
  {
   "cell_type": "markdown",
   "metadata": {},
   "source": [
    "What did we learn from protecting Oski?\n",
    "\n",
    "- The value for $\\epsilon$ depends on the level of privacy needed for a particular use case\n",
    "\n",
    "- Both the variablity of the data and level of protection desired drives the choice.  \n",
    "- If the range of the data is not highly variable, $\\epsilon$ can be higher, imparting more accuracy.  \n",
    "- If the use case needs less protection for outliers, because they may not even be possible in the data, use of a higher value of $\\epsilon$ \n",
    "- However, if protection must extend to extreme cases in the database, $\\epsilon$ must be much lower, typically between 1 and 0.\n",
    "- There is a hefty loss of utility between 1 and 4.  We saw at .5 utility of the average was highly impaired possibliy to the point of being useless. Tolerable utility degradation is use case specific, data specific.\n",
    "- Parameter tuning and privacy decision must be made carefully, with study anbd experimentation on the database itself."
   ]
  },
  {
   "cell_type": "markdown",
   "metadata": {},
   "source": [
    "# 2. Play with the Laplace Privacy Mechanisms, Understand the Parameter $\\Delta$"
   ]
  },
  {
   "cell_type": "markdown",
   "metadata": {},
   "source": [
    "In this section we expose the Differential Privacy Mechanisms for you to use.  Here we introduce the second key parameter to enable DIfferential Privacy guarantees.  Let's start with a bery simple example of injecting noise to a single number.  From this exercise you can see the masking effect of preturbing a number to disguise its actual value just enough to meet the formal privacy guarantees offered by Differential Privacy techniques."
   ]
  },
  {
   "cell_type": "markdown",
   "metadata": {},
   "source": [
    "### 2.1 What does adding \"noise\" from the Laplacian Distribution do to a single number?"
   ]
  },
  {
   "cell_type": "code",
   "execution_count": 413,
   "metadata": {},
   "outputs": [],
   "source": [
    "def laplaceMechanism(x, epsilon, sensitivity):\n",
    "    noisyX =  np.random.laplace(x, 2*sensitivity/epsilon, 1)[0]\n",
    "    return noisyX"
   ]
  },
  {
   "cell_type": "markdown",
   "metadata": {},
   "source": [
    "Laplacian Mechanism takes a single number and adds Laplacian noise to its true value and returns the \"noisy\", disguised number.\n",
    "\n",
    "First pick a number, x.  Then lets add some Laplacian noise to it and see what happens.\n",
    "\n",
    "We choose an example value of 0.  Once you read through our analysis, you choose different values to run the functions and visualizations."
   ]
  },
  {
   "cell_type": "code",
   "execution_count": 414,
   "metadata": {},
   "outputs": [],
   "source": [
    "x = 0"
   ]
  },
  {
   "cell_type": "markdown",
   "metadata": {},
   "source": [
    "Generally, a Laplace mechanism has 3 parameters:\n",
    "\n",
    "- mu = $\\mu$ or center of the Laplace function itself, here the true number x.\n",
    "- epsilon = $\\epsilon$ is the privacy leakage of the query (We explored $\\epsilon$ in the previous section holding sensitivity constant)\n",
    "- sensitivity = $\\delta$ is query dependent and is the potential difference in the outcome of a query for two databases that differ by 1 record"
   ]
  },
  {
   "cell_type": "markdown",
   "metadata": {},
   "source": [
    "First, choose parameters to disguise our number x.  \n",
    "Choose a high level of privacy by setting $\\epsilon$ low (high privacy = low leakage). \n",
    "Center the noise we generate around our input number x."
   ]
  },
  {
   "cell_type": "code",
   "execution_count": 415,
   "metadata": {},
   "outputs": [],
   "source": [
    "# Choose parameters with very low epsilon (little privacy leakage)\n",
    "# mu = x\n",
    "mu = 0\n",
    "epsilon = .5\n",
    "sensitivity = 1"
   ]
  },
  {
   "cell_type": "code",
   "execution_count": 431,
   "metadata": {},
   "outputs": [
    {
     "name": "stdout",
     "output_type": "stream",
     "text": [
      "-6.48256061709564\n"
     ]
    }
   ],
   "source": [
    "# What happens to your x-value?\n",
    "noiseNum = laplaceMechanism(x, epsilon, sensitivity)\n",
    "print(noiseNum)"
   ]
  },
  {
   "cell_type": "markdown",
   "metadata": {},
   "source": [
    "Let's generate 1000 different random samples of your x values with this low epsilon.\n",
    "\n",
    "Then plot the distribution around the x value.\n",
    "\n",
    "What should the distribution look like? "
   ]
  },
  {
   "cell_type": "code",
   "execution_count": 432,
   "metadata": {},
   "outputs": [],
   "source": [
    "noiseNums = []\n",
    "for i in range(10000):\n",
    "    noiseNum = laplaceMechanism(x, epsilon, sensitivity)\n",
    "    noiseNums.append(noiseNum)"
   ]
  },
  {
   "cell_type": "code",
   "execution_count": 433,
   "metadata": {},
   "outputs": [
    {
     "data": {
      "image/png": "[encoded data removed]",
      "text/plain": [
       "<Figure size 432x288 with 1 Axes>"
      ]
     },
     "metadata": {
      "needs_background": "light"
     },
     "output_type": "display_data"
    }
   ],
   "source": [
    "binBoundaries = np.linspace(-10,10,100)\n",
    "plt.hist(np.asarray(noiseNums, dtype='float'), bins=binBoundaries, color = 'k')\n",
    "plt.show()"
   ]
  },
  {
   "cell_type": "markdown",
   "metadata": {},
   "source": [
    "This sample distribution should converge to the underlying distributon around the actual x value, with many samples, here 10,000."
   ]
  },
  {
   "cell_type": "code",
   "execution_count": 154,
   "metadata": {},
   "outputs": [
    {
     "data": {
      "image/png": "[encoded data removed]",
      "text/plain": [
       "<Figure size 432x288 with 1 Axes>"
      ]
     },
     "metadata": {
      "needs_background": "light"
     },
     "output_type": "display_data"
    }
   ],
   "source": [
    "fig, ax = plt.subplots(1, 1)\n",
    "#x = np.linspace(laplace.ppf(0.001), laplace.ppf(0.999), 100)\n",
    "#ax.plot(x, laplace.pdf(x),'r-', lw=5, alpha= .5, label='laplace pdf')\n",
    "rv = laplace(0, 2*sensitivity/epsilon)\n",
    "ax.plot(x, rv.pdf(x), 'r-', lw=5, label='Laplace Probability ')\n",
    "r = noiseNums\n",
    "ax.hist(r, density=True, histtype='stepfilled', alpha=0.6, bins = binBoundaries, label= \"Sample Distribution\", color = 'k')\n",
    "ax.legend(loc='best', frameon=False)\n",
    "plt.show()\n"
   ]
  },
  {
   "cell_type": "code",
   "execution_count": 157,
   "metadata": {},
   "outputs": [],
   "source": [
    "#Here just figuring out how to calculate the confidence interval\n",
    "mean, var, skew, kurt = laplace.stats(moments='mvsk')"
   ]
  },
  {
   "cell_type": "code",
   "execution_count": 435,
   "metadata": {},
   "outputs": [
    {
     "name": "stdout",
     "output_type": "stream",
     "text": [
      "2.8284271247461903 -2.8284271247461903\n"
     ]
    }
   ],
   "source": [
    "std = np.sqrt(var)\n",
    "confid_high = mu + 2*std\n",
    "confid_low = mu - 2*std\n",
    "#This is the actual CI boundaries for 95%\n",
    "print(confid_high, confid_low)"
   ]
  },
  {
   "cell_type": "code",
   "execution_count": 436,
   "metadata": {},
   "outputs": [
    {
     "data": {
      "text/plain": [
       "<matplotlib.collections.PolyCollection at 0x1a25316a10>"
      ]
     },
     "execution_count": 436,
     "metadata": {},
     "output_type": "execute_result"
    },
    {
     "data": {
      "image/png": "[encoded data removed]",
      "text/plain": [
       "<Figure size 432x288 with 1 Axes>"
      ]
     },
     "metadata": {
      "needs_background": "light"
     },
     "output_type": "display_data"
    }
   ],
   "source": [
    "# This is the normal approximation, here for 50%\n",
    "ci = norm(*norm.fit(noiseNums)).interval(0.50) \n",
    "height, bins, patches = plt.hist(noiseNums, alpha=0.8, bins = binBoundaries, color = 'g')\n",
    "plt.fill_betweenx([0, height.max()], ci[0], ci[1], color='k', alpha=0.3) "
   ]
  },
  {
   "cell_type": "code",
   "execution_count": 195,
   "metadata": {},
   "outputs": [
    {
     "name": "stdout",
     "output_type": "stream",
     "text": [
      "(-3.958171904944405, 3.8890277304790013)\n"
     ]
    }
   ],
   "source": [
    "print(ci)"
   ]
  },
  {
   "cell_type": "markdown",
   "metadata": {},
   "source": [
    "This visualization shows that 50% of the time, with parameters, $\\epsilon$ = .5 and sensitivity, $\\delta$ = 1 the Laplace Privacy Mechanism will return a value of 4!  Now try the experiment with lower privacy, say $\\epsilon$ = 4 and $\\delta$ = 1"
   ]
  },
  {
   "cell_type": "code",
   "execution_count": 437,
   "metadata": {},
   "outputs": [],
   "source": [
    "# Choose parameters with very high epsilon (lots of privacy leakage)\n",
    "x = 0\n",
    "epsilon = 4\n",
    "sensitivity = 1"
   ]
  },
  {
   "cell_type": "code",
   "execution_count": 439,
   "metadata": {},
   "outputs": [],
   "source": [
    "noiseNums = []\n",
    "for i in range(10000):\n",
    "    noiseNum = laplaceMechanism(x, epsilon, sensitivity)\n",
    "    noiseNums.append(noiseNum)"
   ]
  },
  {
   "cell_type": "code",
   "execution_count": 440,
   "metadata": {},
   "outputs": [
    {
     "data": {
      "text/plain": [
       "<matplotlib.collections.PolyCollection at 0x1a255ad150>"
      ]
     },
     "execution_count": 440,
     "metadata": {},
     "output_type": "execute_result"
    },
    {
     "data": {
      "image/png": "[encoded data removed]",
      "text/plain": [
       "<Figure size 432x288 with 1 Axes>"
      ]
     },
     "metadata": {
      "needs_background": "light"
     },
     "output_type": "display_data"
    }
   ],
   "source": [
    "binBoundaries = np.linspace(-10,10,100)\n",
    "ci = norm(*norm.fit(noiseNums)).interval(0.50)  \n",
    "height, bins, patches = plt.hist(noiseNums, alpha=0.8, bins = binBoundaries, color = 'g')\n",
    "plt.fill_betweenx([0, height.max()], ci[0], ci[1], color='k', alpha=0.3) "
   ]
  },
  {
   "cell_type": "markdown",
   "metadata": {},
   "source": [
    "#### Look at the histogram more illustrative bin boundaries."
   ]
  },
  {
   "cell_type": "code",
   "execution_count": 213,
   "metadata": {},
   "outputs": [
    {
     "data": {
      "text/plain": [
       "<matplotlib.collections.PolyCollection at 0x1a21bd4610>"
      ]
     },
     "execution_count": 213,
     "metadata": {},
     "output_type": "execute_result"
    },
    {
     "data": {
      "image/png": "[encoded data removed]",
      "text/plain": [
       "<Figure size 432x288 with 1 Axes>"
      ]
     },
     "metadata": {
      "needs_background": "light"
     },
     "output_type": "display_data"
    }
   ],
   "source": [
    "binBoundaries = np.linspace(-1,1,100)\n",
    "ci = norm(*norm.fit(noiseNums)).interval(0.50)  \n",
    "height, bins, patches = plt.hist(noiseNums, alpha=0.8, bins = binBoundaries, color = 'g')\n",
    "plt.fill_betweenx([0, height.max()], ci[0], ci[1], color='k', alpha=0.3) "
   ]
  },
  {
   "cell_type": "code",
   "execution_count": 214,
   "metadata": {},
   "outputs": [
    {
     "name": "stdout",
     "output_type": "stream",
     "text": [
      "(-0.481701106282169, 0.478245085000773)\n"
     ]
    }
   ],
   "source": [
    "print(ci)"
   ]
  },
  {
   "cell_type": "markdown",
   "metadata": {},
   "source": [
    "### Need visual showing ration of confidence intervals.."
   ]
  },
  {
   "cell_type": "markdown",
   "metadata": {},
   "source": [
    "This visualization shows that 50% of the time, with parameters, $\\epsilon$ = 4 and sensitivity, $\\delta$ = 1 the Laplace Privacy Mechanism will return a value of -.5  to .5, reducing the range the previous parameters produced by approximately 87.5% "
   ]
  },
  {
   "cell_type": "markdown",
   "metadata": {},
   "source": [
    "### 2.2 Explore Our Balding Bears Database and Laplace Differential Privacy Mechanism COUNT"
   ]
  },
  {
   "cell_type": "markdown",
   "metadata": {},
   "source": [
    "Let's revisit differentially private gaurantees for our bears who are losing their precious fur.  Let's explore three types of queries COUNT, SUM and AVERAGE and how we can make these aggregation queries such that they provide some privacy gaurantees for our fur-challenged bears."
   ]
  },
  {
   "cell_type": "markdown",
   "metadata": {},
   "source": [
    "Recall the eating habits of our bears on July 30th, including our salmon catching star Oski.\n",
    "\n",
    "[10, 13, 14, 12, 18, 14, 18, 17, 16, 12, 48]\n",
    "\n"
   ]
  },
  {
   "cell_type": "code",
   "execution_count": 687,
   "metadata": {},
   "outputs": [],
   "source": [
    "def ANON_COUNT(col, epsilon, sensitivity):\n",
    "    trueCount = np.shape(col)[0]\n",
    "    noisyCount = laplaceMechanism(trueCount, epsilon, sensitivity)\n",
    "    return noisyCount"
   ]
  },
  {
   "cell_type": "markdown",
   "metadata": {},
   "source": [
    "For simplicity create a pandas dataframe of the balding bears."
   ]
  },
  {
   "cell_type": "code",
   "execution_count": 442,
   "metadata": {},
   "outputs": [],
   "source": [
    "#Create a dataframe of the balding bears\n",
    "baldingBears = pd.DataFrame({'Bears': ['Avalanche', 'Bananas', 'Benny', 'Boomer', 'Grizz', 'Kody', 'Monte', 'Nanook', 'Ranger', 'Scott Highlander', \n",
    "                                       'Oski'],'School': ['Kutztown', 'U of Maine', 'Morgan State', 'Lake Forest', 'Oakland', 'Cascadia', 'U Montana', \n",
    "                                       'Bowdoin', 'Drew', 'UC Riverside','Berkeley'], 'Salmon':[10, 13, 14, 12, 18, 14, 18, 17, 16, 12, 48]})\n"
   ]
  },
  {
   "cell_type": "code",
   "execution_count": 443,
   "metadata": {},
   "outputs": [],
   "source": [
    "# add 1 to each index\n",
    "baldingBears.index = baldingBears.index + 1"
   ]
  },
  {
   "cell_type": "code",
   "execution_count": 444,
   "metadata": {},
   "outputs": [
    {
     "data": {
      "text/html": [
       "<div>\n",
       "<style scoped>\n",
       "    .dataframe tbody tr th:only-of-type {\n",
       "        vertical-align: middle;\n",
       "    }\n",
       "\n",
       "    .dataframe tbody tr th {\n",
       "        vertical-align: top;\n",
       "    }\n",
       "\n",
       "    .dataframe thead th {\n",
       "        text-align: right;\n",
       "    }\n",
       "</style>\n",
       "<table border=\"1\" class=\"dataframe\">\n",
       "  <thead>\n",
       "    <tr style=\"text-align: right;\">\n",
       "      <th></th>\n",
       "      <th>Bears</th>\n",
       "      <th>School</th>\n",
       "      <th>Salmon</th>\n",
       "    </tr>\n",
       "  </thead>\n",
       "  <tbody>\n",
       "    <tr>\n",
       "      <td>1</td>\n",
       "      <td>Avalanche</td>\n",
       "      <td>Kutztown</td>\n",
       "      <td>10</td>\n",
       "    </tr>\n",
       "    <tr>\n",
       "      <td>2</td>\n",
       "      <td>Bananas</td>\n",
       "      <td>U of Maine</td>\n",
       "      <td>13</td>\n",
       "    </tr>\n",
       "    <tr>\n",
       "      <td>3</td>\n",
       "      <td>Benny</td>\n",
       "      <td>Morgan State</td>\n",
       "      <td>14</td>\n",
       "    </tr>\n",
       "    <tr>\n",
       "      <td>4</td>\n",
       "      <td>Boomer</td>\n",
       "      <td>Lake Forest</td>\n",
       "      <td>12</td>\n",
       "    </tr>\n",
       "    <tr>\n",
       "      <td>5</td>\n",
       "      <td>Grizz</td>\n",
       "      <td>Oakland</td>\n",
       "      <td>18</td>\n",
       "    </tr>\n",
       "    <tr>\n",
       "      <td>6</td>\n",
       "      <td>Kody</td>\n",
       "      <td>Cascadia</td>\n",
       "      <td>14</td>\n",
       "    </tr>\n",
       "    <tr>\n",
       "      <td>7</td>\n",
       "      <td>Monte</td>\n",
       "      <td>U Montana</td>\n",
       "      <td>18</td>\n",
       "    </tr>\n",
       "    <tr>\n",
       "      <td>8</td>\n",
       "      <td>Nanook</td>\n",
       "      <td>Bowdoin</td>\n",
       "      <td>17</td>\n",
       "    </tr>\n",
       "    <tr>\n",
       "      <td>9</td>\n",
       "      <td>Ranger</td>\n",
       "      <td>Drew</td>\n",
       "      <td>16</td>\n",
       "    </tr>\n",
       "    <tr>\n",
       "      <td>10</td>\n",
       "      <td>Scott Highlander</td>\n",
       "      <td>UC Riverside</td>\n",
       "      <td>12</td>\n",
       "    </tr>\n",
       "    <tr>\n",
       "      <td>11</td>\n",
       "      <td>Oski</td>\n",
       "      <td>Berkeley</td>\n",
       "      <td>48</td>\n",
       "    </tr>\n",
       "  </tbody>\n",
       "</table>\n",
       "</div>"
      ],
      "text/plain": [
       "               Bears        School  Salmon\n",
       "1          Avalanche      Kutztown      10\n",
       "2            Bananas    U of Maine      13\n",
       "3              Benny  Morgan State      14\n",
       "4             Boomer   Lake Forest      12\n",
       "5              Grizz       Oakland      18\n",
       "6               Kody      Cascadia      14\n",
       "7              Monte     U Montana      18\n",
       "8             Nanook       Bowdoin      17\n",
       "9             Ranger          Drew      16\n",
       "10  Scott Highlander  UC Riverside      12\n",
       "11              Oski      Berkeley      48"
      ]
     },
     "execution_count": 444,
     "metadata": {},
     "output_type": "execute_result"
    }
   ],
   "source": [
    "baldingBears"
   ]
  },
  {
   "cell_type": "code",
   "execution_count": 447,
   "metadata": {},
   "outputs": [],
   "source": [
    "# Choose parameters with very low epsilon (little privacy leakage)\n",
    "trueCount = 11\n",
    "mu = 0\n",
    "epsilon = .5\n",
    "sensitivity = 2\n",
    "col = baldingBears['Salmon']"
   ]
  },
  {
   "cell_type": "markdown",
   "metadata": {},
   "source": [
    "The true count of the number of bears in our database is $11$.  The true sum of the number of salmon eaten on July 30th is $192$\n",
    "Before we dive too deep into sensitivity, note that for the COUNT query the unbounded sensitivity for a COUNT query is $1$; the bounded sensitivity is $2$.  This is the most the query answer can diverge between databases that differ by one record.  The difference between 1 or 2 depend on how yoy define difference. "
   ]
  },
  {
   "cell_type": "code",
   "execution_count": 456,
   "metadata": {},
   "outputs": [
    {
     "name": "stdout",
     "output_type": "stream",
     "text": [
      "12.463618047279708\n"
     ]
    }
   ],
   "source": [
    "noisyCount = ANON_COUNT(col, epsilon, sensitivity)\n",
    "print(noisyCount)                   "
   ]
  },
  {
   "cell_type": "code",
   "execution_count": 457,
   "metadata": {},
   "outputs": [],
   "source": [
    "noisyCounts = []\n",
    "for i in range(10000):\n",
    "    noisyCount = ANON_COUNT(col, epsilon, sensitivity)  \n",
    "    noisyCounts.append(noisyCount)"
   ]
  },
  {
   "cell_type": "code",
   "execution_count": 458,
   "metadata": {},
   "outputs": [
    {
     "data": {
      "image/png": "[encoded data removed]",
      "text/plain": [
       "<Figure size 432x288 with 1 Axes>"
      ]
     },
     "metadata": {
      "needs_background": "light"
     },
     "output_type": "display_data"
    }
   ],
   "source": [
    "binBoundaries = np.linspace(-10,30,100)\n",
    "plt.hist(np.asarray(noisyCounts, dtype='float'), bins=binBoundaries, color = 'k')\n",
    "plt.show()"
   ]
  },
  {
   "cell_type": "code",
   "execution_count": 459,
   "metadata": {},
   "outputs": [
    {
     "data": {
      "text/plain": [
       "<matplotlib.collections.PolyCollection at 0x1a29f39210>"
      ]
     },
     "execution_count": 459,
     "metadata": {},
     "output_type": "execute_result"
    },
    {
     "data": {
      "image/png": "[encoded data removed]",
      "text/plain": [
       "<Figure size 432x288 with 1 Axes>"
      ]
     },
     "metadata": {
      "needs_background": "light"
     },
     "output_type": "display_data"
    }
   ],
   "source": [
    "binBoundaries = np.linspace(-10,30,100)\n",
    "ci = norm(*norm.fit(noisyCounts)).interval(0.50)  \n",
    "height, bins, patches = plt.hist(noisyCounts, alpha=0.8, bins = binBoundaries, color = 'k')\n",
    "plt.fill_betweenx([0, height.max()], ci[0], ci[1], color='r', alpha=0.3) "
   ]
  },
  {
   "cell_type": "code",
   "execution_count": 305,
   "metadata": {},
   "outputs": [],
   "source": [
    "# Choose parameters with very high epsilon (subsstanital privacy leakage)\n",
    "trueCount = 192\n",
    "mu = 0\n",
    "epsilon = 5\n",
    "sensitivity = 2\n",
    "col = baldingBears['Salmon']"
   ]
  },
  {
   "cell_type": "code",
   "execution_count": 302,
   "metadata": {},
   "outputs": [],
   "source": [
    "noisyCounts = []\n",
    "for i in range(10000):\n",
    "    noisyCount = ANON_COUNT(col, epsilon, sensitivity)  \n",
    "    noisyCounts.append(noisyCount)"
   ]
  },
  {
   "cell_type": "code",
   "execution_count": 309,
   "metadata": {},
   "outputs": [
    {
     "data": {
      "text/plain": [
       "<matplotlib.collections.PolyCollection at 0x11ff37190>"
      ]
     },
     "execution_count": 309,
     "metadata": {},
     "output_type": "execute_result"
    },
    {
     "data": {
      "image/png": "[encoded data removed]",
      "text/plain": [
       "<Figure size 432x288 with 1 Axes>"
      ]
     },
     "metadata": {
      "needs_background": "light"
     },
     "output_type": "display_data"
    }
   ],
   "source": [
    "binBoundaries = np.linspace(5,15,100)\n",
    "ci = norm(*norm.fit(noisyCounts)).interval(0.50)  \n",
    "height, bins, patches = plt.hist(noisyCounts, alpha=0.8, bins = binBoundaries, color = 'k')\n",
    "plt.fill_betweenx([0, height.max()], ci[0], ci[1], color='r', alpha=0.3) "
   ]
  },
  {
   "cell_type": "code",
   "execution_count": 310,
   "metadata": {},
   "outputs": [
    {
     "name": "stdout",
     "output_type": "stream",
     "text": [
      "(10.242532924659958, 11.759144967107623)\n"
     ]
    }
   ],
   "source": [
    "print(ci)"
   ]
  },
  {
   "cell_type": "markdown",
   "metadata": {},
   "source": [
    "Notice with the lower privacy gaurantees that there is a 50% chance that the noisyCount will fall within .7 of the true count of be within approximately 6% of the true count!  Play with the parameters and re-run the last 5 cells."
   ]
  },
  {
   "cell_type": "markdown",
   "metadata": {},
   "source": [
    "### 2.3 How the Laplace Mechanism can protect Oski's privacy for sum queries ... sensitivity $\\Delta$ to the rescue."
   ]
  },
  {
   "cell_type": "markdown",
   "metadata": {},
   "source": [
    "Let's consider the database of bears without Oski in it.  Suppose we query the total of all salmon eaten by our bears.  Recall without Oski the sum is $144$. Set the parameter $\\epsilon$ at 1, a fairly private setting for most use cases.   "
   ]
  },
  {
   "cell_type": "code",
   "execution_count": 474,
   "metadata": {},
   "outputs": [],
   "source": [
    "def ANON_SUM(col, epsilon, u, l):\n",
    "    trueSum = np.sum(col)\n",
    "    sensitivity = abs(u-l)\n",
    "    noisySum = laplaceMechanism(trueSum, epsilon,sensitivity)\n",
    "    return noisySum"
   ]
  },
  {
   "cell_type": "code",
   "execution_count": 511,
   "metadata": {},
   "outputs": [],
   "source": [
    "# Set Diffierential Privacy Parameters for Anonymous Sum\n",
    "epsilon = 1\n",
    "col = baldingBears_no_Oski['Salmon']\n",
    "u = max(col)\n",
    "l = min(col)"
   ]
  },
  {
   "cell_type": "code",
   "execution_count": 500,
   "metadata": {},
   "outputs": [
    {
     "data": {
      "text/plain": [
       "149.63193473102413"
      ]
     },
     "execution_count": 500,
     "metadata": {},
     "output_type": "execute_result"
    }
   ],
   "source": [
    "ANON_SUM(col, epsilon, u, l)"
   ]
  },
  {
   "cell_type": "code",
   "execution_count": 512,
   "metadata": {},
   "outputs": [],
   "source": [
    "noisySums = []\n",
    "for i in range(10000):\n",
    "    noisySum = ANON_SUM(col, epsilon, u, l)  \n",
    "    noisySums.append(noisySum)"
   ]
  },
  {
   "cell_type": "code",
   "execution_count": 374,
   "metadata": {},
   "outputs": [],
   "source": [
    "#noisySums"
   ]
  },
  {
   "cell_type": "code",
   "execution_count": 518,
   "metadata": {},
   "outputs": [
    {
     "data": {
      "text/plain": [
       "<matplotlib.collections.PolyCollection at 0x1a288d8c90>"
      ]
     },
     "execution_count": 518,
     "metadata": {},
     "output_type": "execute_result"
    },
    {
     "data": {
      "image/png": "[encoded data removed]",
      "text/plain": [
       "<Figure size 432x288 with 1 Axes>"
      ]
     },
     "metadata": {
      "needs_background": "light"
     },
     "output_type": "display_data"
    }
   ],
   "source": [
    "binBoundaries = np.linspace(50,300,100)\n",
    "ci = norm(*norm.fit(noisySums)).interval(0.50)  \n",
    "height, bins, patches = plt.hist(noisySums, alpha=0.8, bins = binBoundaries, color = 'k')\n",
    "plt.fill_betweenx([0, height.max()], ci[0], ci[1], color='r', alpha=0.3) "
   ]
  },
  {
   "cell_type": "code",
   "execution_count": 519,
   "metadata": {},
   "outputs": [
    {
     "data": {
      "text/plain": [
       "(176.26933404544383, 207.0312465612201)"
      ]
     },
     "execution_count": 519,
     "metadata": {},
     "output_type": "execute_result"
    }
   ],
   "source": [
    "ci"
   ]
  },
  {
   "cell_type": "code",
   "execution_count": 520,
   "metadata": {},
   "outputs": [
    {
     "data": {
      "text/plain": [
       "<matplotlib.collections.PolyCollection at 0x1a29756210>"
      ]
     },
     "execution_count": 520,
     "metadata": {},
     "output_type": "execute_result"
    },
    {
     "data": {
      "image/png": "[encoded data removed]",
      "text/plain": [
       "<Figure size 432x288 with 1 Axes>"
      ]
     },
     "metadata": {
      "needs_background": "light"
     },
     "output_type": "display_data"
    }
   ],
   "source": [
    "col = baldingBears['Salmon']\n",
    "\n",
    "noisySums = []\n",
    "for i in range(10000):\n",
    "    noisySum = ANON_SUM(col, epsilon, u, l)  \n",
    "    noisySums.append(noisySum)\n",
    "    \n",
    "binBoundaries = np.linspace(50,300,100)\n",
    "ci = norm(*norm.fit(noisySums)).interval(0.50)  \n",
    "height, bins, patches = plt.hist(noisySums, alpha=0.8, bins = binBoundaries, color = 'k')\n",
    "plt.fill_betweenx([0, height.max()], ci[0], ci[1], color='r', alpha=0.3) "
   ]
  },
  {
   "cell_type": "code",
   "execution_count": 521,
   "metadata": {},
   "outputs": [
    {
     "data": {
      "text/plain": [
       "(176.21102599628009, 207.12134809378202)"
      ]
     },
     "execution_count": 521,
     "metadata": {},
     "output_type": "execute_result"
    }
   ],
   "source": [
    "ci"
   ]
  },
  {
   "cell_type": "markdown",
   "metadata": {},
   "source": [
    "### What can we see from these results?  \n",
    "\n",
    "Notice that the confidence intervals at 50% do not overlap at all. Thus at least 50% of the time even with an epsilon of 1, querying the database for sum without and then with Oski it will yeild observably different results.  Any statician with her weight could quickly discern that an averous bear has been added to the database, and it could be Oski.  Oski's privacy, his balding fur, is at risk here.  Even with $\\epsilon$ = 1.\n",
    "\n",
    "### What can be done to make this aggregation query, sum, more differentially private?\n",
    "\n",
    "Notice we set the \"sensitivity\" of the query as the difference between the maximum and minimum value in the database without Oski in it.  THe sensitivity was set based on a reasonably homogenous population of bears.  So when we introduced an outlier, Oski, the sensitivity parameter was not set high enough to protect him.\n",
    "\n",
    "### Set the sensitivity to protect an outlier.\n",
    "\n",
    "The sensitivity of a sum query is the maximum difference between the output of the query with or without any record in the database.  But in most practical use cases this difference must be estimated, guessed based on practical knowledge of a situation. In the case of our bears, to set the sensitivity to protect Oski or any voracious bear, we estimate that the maximum number of salmon any bear could catch and eat in a day is 50 salmon (just a guess).  Further a bear may begin to starve if it eats fewere than 10 salmon.  Thus, the difference between the sum with any new bear added to a database is no more than 50 and no less than 10.  Thus the sensitivity of the sum query in this situation is 40 fish, or 40.  \n",
    "\n",
    "### Rerun the sum query with sensitivity = $40$\n",
    "\n",
    "Recall in the previous demonstration the senstivity was set to 8, the difference between the minimum and the maximum without Oski.  Very different results are seen if we set the senstivity at our \"user-defined\" maximums and minimums.\n"
   ]
  },
  {
   "cell_type": "code",
   "execution_count": 553,
   "metadata": {},
   "outputs": [
    {
     "data": {
      "text/plain": [
       "<matplotlib.collections.PolyCollection at 0x1a2a80c910>"
      ]
     },
     "execution_count": 553,
     "metadata": {},
     "output_type": "execute_result"
    },
    {
     "data": {
      "image/png": "[encoded data removed]",
      "text/plain": [
       "<Figure size 432x288 with 1 Axes>"
      ]
     },
     "metadata": {
      "needs_background": "light"
     },
     "output_type": "display_data"
    }
   ],
   "source": [
    "epsilon = 1\n",
    "u = 50\n",
    "l = 10\n",
    "col = baldingBears_no_Oski['Salmon']\n",
    "\n",
    "noisySums = []\n",
    "for i in range(10000):\n",
    "    noisySum = ANON_SUM(col, epsilon, u, l)  \n",
    "    noisySums.append(noisySum)\n",
    "    \n",
    "binBoundaries = np.linspace(-100,400,100)\n",
    "ci = norm(*norm.fit(noisySums)).interval(0.95)  \n",
    "height, bins, patches = plt.hist(noisySums, alpha=0.8, bins = binBoundaries, color = 'k')\n",
    "plt.fill_betweenx([0, height.max()], ci[0], ci[1], color='r', alpha=0.3) "
   ]
  },
  {
   "cell_type": "code",
   "execution_count": 554,
   "metadata": {},
   "outputs": [
    {
     "data": {
      "text/plain": [
       "(-77.82035602561567, 364.9123904646393)"
      ]
     },
     "execution_count": 554,
     "metadata": {},
     "output_type": "execute_result"
    }
   ],
   "source": [
    "ci_no_Oski = ci\n",
    "ci"
   ]
  },
  {
   "cell_type": "code",
   "execution_count": 555,
   "metadata": {},
   "outputs": [
    {
     "data": {
      "text/plain": [
       "<matplotlib.collections.PolyCollection at 0x1a2aa27d10>"
      ]
     },
     "execution_count": 555,
     "metadata": {},
     "output_type": "execute_result"
    },
    {
     "data": {
      "image/png": "[encoded data removed]",
      "text/plain": [
       "<Figure size 432x288 with 1 Axes>"
      ]
     },
     "metadata": {
      "needs_background": "light"
     },
     "output_type": "display_data"
    }
   ],
   "source": [
    "epsilon = 1\n",
    "u = 50\n",
    "l = 10\n",
    "col = baldingBears['Salmon']\n",
    "\n",
    "noisySums = []\n",
    "for i in range(10000):\n",
    "    noisySum = ANON_SUM(col, epsilon, u, l)  \n",
    "    noisySums.append(noisySum)\n",
    "    \n",
    "binBoundaries = np.linspace(0,400,100)\n",
    "ci = norm(*norm.fit(noisySums)).interval(0.95)  \n",
    "height, bins, patches = plt.hist(noisySums, alpha=0.8, bins = binBoundaries, color = 'k')\n",
    "plt.fill_betweenx([0, height.max()], ci[0], ci[1], color='r', alpha=0.3) "
   ]
  },
  {
   "cell_type": "code",
   "execution_count": 556,
   "metadata": {},
   "outputs": [
    {
     "data": {
      "text/plain": [
       "(-31.305869454353996, 417.24107609758516)"
      ]
     },
     "execution_count": 556,
     "metadata": {},
     "output_type": "execute_result"
    }
   ],
   "source": [
    "ci_Oski = ci\n",
    "ci"
   ]
  },
  {
   "cell_type": "code",
   "execution_count": null,
   "metadata": {},
   "outputs": [],
   "source": []
  },
  {
   "cell_type": "markdown",
   "metadata": {},
   "source": [
    "Observe that with 90% probability the noisy sum will fall between the range of 145 and 238 with $\\epsilon$ = 4 amnd $\\delta$ = 40.  Notice that this is a fairly private preserving outcome!  Why is this with $\\epsilon$ so high? Outcomes should be fairly transparent, close to the true sum.  The answer lies in the high sensitivity rate set.  Here we set the sensitivity rate at user imput levels of 10 to 50 salmon eaten per day.  This was the user's best guess at the maximum and minimum amount of salmon any bear could possibliy eat in one day!  If we simply use the minimum and maximum amount of salmon detected in the database, it would be very close to this, Oski = $48$, Avalance = $10$"
   ]
  },
  {
   "cell_type": "markdown",
   "metadata": {},
   "source": [
    "Here the Laplace Mechanism uses the sensitivity parameter to protect Oski's membership in the database!"
   ]
  },
  {
   "cell_type": "markdown",
   "metadata": {},
   "source": [
    "But what if we took Oski out of the database and did not set the sensitivy so high? What if instead we calculated the sensitivity at just the difference between the minimum and the maximum detected, then Oski was inserted?  This leads to bad news for our ferocious eater."
   ]
  },
  {
   "cell_type": "markdown",
   "metadata": {},
   "source": [
    "### 2.4 Setting Sensitivity to Protect Outliers for Sum (and Average)"
   ]
  },
  {
   "cell_type": "markdown",
   "metadata": {},
   "source": [
    "#### Let's pull Oski out of the database."
   ]
  },
  {
   "cell_type": "code",
   "execution_count": 461,
   "metadata": {},
   "outputs": [],
   "source": [
    "#Create a dataframe of the balding bears\n",
    "baldingBears_no_Oski = pd.DataFrame({'Bears': ['Avalanche', 'Bananas', 'Benny', 'Boomer', 'Grizz', 'Kody', 'Monte', 'Nanook', 'Ranger', 'Scott Highlander'],\n",
    "                                    'School': ['Kutztown', 'U of Maine', 'Morgan State', 'Lake Forest', 'Oakland', 'Cascadia', 'U Montana', \n",
    "                                       'Bowdoin', 'Drew', 'UC Riverside'], \n",
    "                                    'Salmon':[10, 13, 14, 12, 18, 14, 18, 17, 16, 12]})\n"
   ]
  },
  {
   "cell_type": "code",
   "execution_count": 388,
   "metadata": {},
   "outputs": [],
   "source": [
    "# baldingBears_no_Oski"
   ]
  },
  {
   "cell_type": "markdown",
   "metadata": {},
   "source": [
    "Here instead of asking the user to set the upper and lower bound on the amount of salmon that could be eaten by a balding bear, we simply compute the sensitivity using the values in the database without Oski to set the sensitivity $\\Delta$."
   ]
  },
  {
   "cell_type": "code",
   "execution_count": 462,
   "metadata": {},
   "outputs": [],
   "source": [
    "# Set Diffierential Privacy Parameters for Anonymous Sum\n",
    "u = max(baldingBears_no_Oski['Salmon'])\n",
    "l = min(baldingBears_no_Oski['Salmon'])\n",
    "mu = 0\n",
    "epsilon = 4\n",
    "col = baldingBears_no_Oski['Salmon']"
   ]
  },
  {
   "cell_type": "markdown",
   "metadata": {},
   "source": [
    "Now let's run the SUM queries again."
   ]
  },
  {
   "cell_type": "code",
   "execution_count": 394,
   "metadata": {},
   "outputs": [],
   "source": [
    "noisySums = []\n",
    "for i in range(10000):\n",
    "    noisySum = ANON_SUM(col, epsilon, u, l)  \n",
    "    noisySums.append(noisySum)"
   ]
  },
  {
   "cell_type": "code",
   "execution_count": 395,
   "metadata": {},
   "outputs": [
    {
     "data": {
      "text/plain": [
       "<matplotlib.collections.PolyCollection at 0x1a248ed610>"
      ]
     },
     "execution_count": 395,
     "metadata": {},
     "output_type": "execute_result"
    },
    {
     "data": {
      "image/png": "[encoded data removed]",
      "text/plain": [
       "<Figure size 432x288 with 1 Axes>"
      ]
     },
     "metadata": {
      "needs_background": "light"
     },
     "output_type": "display_data"
    }
   ],
   "source": [
    "binBoundaries = np.linspace(50,300,100)\n",
    "ci = norm(*norm.fit(noisySums)).interval(0.90)  \n",
    "height, bins, patches = plt.hist(noisySums, alpha=0.8, bins = binBoundaries, color = 'k')\n",
    "plt.fill_betweenx([0, height.max()], ci[0], ci[1], color='r', alpha=0.3) "
   ]
  },
  {
   "cell_type": "code",
   "execution_count": 396,
   "metadata": {},
   "outputs": [
    {
     "data": {
      "text/plain": [
       "(134.58591373663725, 153.34741055070467)"
      ]
     },
     "execution_count": 396,
     "metadata": {},
     "output_type": "execute_result"
    }
   ],
   "source": [
    "ci"
   ]
  },
  {
   "cell_type": "markdown",
   "metadata": {},
   "source": [
    "Yikes!  90% of the sums produced by the Laplace Mechanism fall within 10 around the true sum of 144.\n",
    "\n",
    "Now lets go back and add Oski to the database with these same parameters $\\epsilon$ = 4 and $\\delta$ = 8\n",
    "\n",
    "and run the same query with Oski added to the database."
   ]
  },
  {
   "cell_type": "code",
   "execution_count": 463,
   "metadata": {},
   "outputs": [],
   "source": [
    "col = baldingBears['Salmon']"
   ]
  },
  {
   "cell_type": "code",
   "execution_count": 466,
   "metadata": {},
   "outputs": [],
   "source": [
    "noisySums = []\n",
    "for i in range(10000):\n",
    "    noisySum = ANON_SUM(col, mu, epsilon, u, l)  \n",
    "    noisySums.append(noisySum)"
   ]
  },
  {
   "cell_type": "code",
   "execution_count": 467,
   "metadata": {},
   "outputs": [
    {
     "data": {
      "text/plain": [
       "<matplotlib.collections.PolyCollection at 0x1a2398b6d0>"
      ]
     },
     "execution_count": 467,
     "metadata": {},
     "output_type": "execute_result"
    },
    {
     "data": {
      "image/png": "[encoded data removed]",
      "text/plain": [
       "<Figure size 432x288 with 1 Axes>"
      ]
     },
     "metadata": {
      "needs_background": "light"
     },
     "output_type": "display_data"
    }
   ],
   "source": [
    "binBoundaries = np.linspace(50,300,100)\n",
    "ci = norm(*norm.fit(noisySums)).interval(0.90)  \n",
    "height, bins, patches = plt.hist(noisySums, alpha=0.8, bins = binBoundaries, color = 'k')\n",
    "plt.fill_betweenx([0, height.max()], ci[0], ci[1], color='r', alpha=0.3) "
   ]
  },
  {
   "cell_type": "code",
   "execution_count": 468,
   "metadata": {},
   "outputs": [
    {
     "data": {
      "text/plain": [
       "(182.58998639102563, 201.4242605285819)"
      ]
     },
     "execution_count": 468,
     "metadata": {},
     "output_type": "execute_result"
    }
   ],
   "source": [
    "ci"
   ]
  },
  {
   "cell_type": "markdown",
   "metadata": {},
   "source": [
    "Instead of having almost $100$ points of padding to disguise Oski's membership as before with a very high sensitivity, here we see again a tight band of sum responses, $10$.  Looking at the difference between the two adjacent databases, one without Oski, one with Oski, there is a high probability of a lot of privacy leakage. "
   ]
  },
  {
   "cell_type": "markdown",
   "metadata": {},
   "source": [
    "#### What is the point?   \n",
    "\n",
    "#### ...Sensitivity matters for ANON_SUM!\n",
    "\n",
    "For an aggregation query like sum or average, the sensitivity parameter matters a lot if the database is to protect the membership of  outliers like Oski!  The upper and lower bound on the possible magnitude of the data, here the number of salmon eaten in a day must be large enough to protect everyone in the database."
   ]
  },
  {
   "cell_type": "markdown",
   "metadata": {},
   "source": [
    "### 2.5 Explore ANON_AVERAGE query with the Laplace Mechanism and the Balding Bears"
   ]
  },
  {
   "cell_type": "code",
   "execution_count": 781,
   "metadata": {},
   "outputs": [],
   "source": [
    "# Advice is not to use this simple algorithm\n",
    "def ANON_AVG_SIMPLE(col, epsilon, u, l):\n",
    "    noisySum = ANON_SUM(col, epsilon, u, l)\n",
    "    noisyCount = ANON_COUNT(col, epsilon, 1)\n",
    "    return noisySum/noisyCount"
   ]
  },
  {
   "cell_type": "code",
   "execution_count": 794,
   "metadata": {},
   "outputs": [],
   "source": [
    "def ANON_AVG_CLAMPING(col, epsilon, u, l):\n",
    "    trueSum = np.sum(col) \n",
    "    trueCount = np.shape(col)[0] \n",
    "    sensitivity = u-l\n",
    "    a = laplaceMechanism(trueSum, epsilon, sensitivity)/trueCount\n",
    "    if a <= l:\n",
    "        return l\n",
    "    else:\n",
    "        if a >= u:\n",
    "            return u\n",
    "        else: \n",
    "            return a"
   ]
  },
  {
   "cell_type": "code",
   "execution_count": 739,
   "metadata": {},
   "outputs": [],
   "source": [
    "#Experimental Algorithm with Double Noise - Do Not Use\n",
    "def ANON_AVG_CLAMPING_2(col, epsilon, u, l):\n",
    "    noisySum = ANON_SUM(col, epsilon, u, l)\n",
    "    sensitivity = 1\n",
    "    noisyCount = ANON_COUNT(col, epsilon, sensitivity)\n",
    "    #if noisyCount == 0:\n",
    "      #  print(\"error\") # complicated function need to code\n",
    "    a = laplaceMechanism(noisySum, epsilon, sensitivity)/noisyCount\n",
    "    if a <=  l:\n",
    "        return l\n",
    "    else:\n",
    "        if a > u:\n",
    "            return u\n",
    "        else: \n",
    "            return a"
   ]
  },
  {
   "cell_type": "code",
   "execution_count": 811,
   "metadata": {},
   "outputs": [
    {
     "data": {
      "text/plain": [
       "<matplotlib.collections.PolyCollection at 0x1a30c11e50>"
      ]
     },
     "execution_count": 811,
     "metadata": {},
     "output_type": "execute_result"
    },
    {
     "data": {
      "image/png": "[encoded data removed]",
      "text/plain": [
       "<Figure size 432x288 with 1 Axes>"
      ]
     },
     "metadata": {
      "needs_background": "light"
     },
     "output_type": "display_data"
    }
   ],
   "source": [
    "# Low privacy, low sensitivity, no Oski\n",
    "epsilon = 4\n",
    "u = 18\n",
    "l = 10\n",
    "col = baldingBears_no_Oski['Salmon']\n",
    "\n",
    "noisyAvgs = []\n",
    "for i in range(10000):\n",
    "    noisyAvg = ANON_AVG_SIMPLE(col, epsilon, u, l)\n",
    "    noisyAvgs.append(noisyAvg)\n",
    "    \n",
    "binBoundaries = np.linspace(10,22,100)\n",
    "ci = norm(*norm.fit(noisyAvgs)).interval(0.95)  \n",
    "height, bins, patches = plt.hist(noisyAvgs, alpha=0.8, bins = binBoundaries, color = 'k')\n",
    "plt.fill_betweenx([0, height.max()], ci[0], ci[1], color='r', alpha=0.3) "
   ]
  },
  {
   "cell_type": "code",
   "execution_count": 807,
   "metadata": {},
   "outputs": [
    {
     "data": {
      "text/plain": [
       "<matplotlib.collections.PolyCollection at 0x1a304ca390>"
      ]
     },
     "execution_count": 807,
     "metadata": {},
     "output_type": "execute_result"
    },
    {
     "data": {
      "image/png": "[encoded data removed]",
      "text/plain": [
       "<Figure size 432x288 with 1 Axes>"
      ]
     },
     "metadata": {
      "needs_background": "light"
     },
     "output_type": "display_data"
    }
   ],
   "source": [
    "# Low privacy, low sensitivty, Oski\n",
    "epsilon = 4\n",
    "u = 18\n",
    "l = 10\n",
    "col = baldingBears['Salmon']noisyAvgs = []\n",
    "\n",
    "for i in range(10000):\n",
    "    noisyAvg = ANON_AVG_SIMPLE(col, epsilon, u, l)\n",
    "    noisyAvgs.append(noisyAvg)\n",
    "    \n",
    "binBoundaries = np.linspace(10,25,100)\n",
    "ci = norm(*norm.fit(noisyAvgs)).interval(0.95)  \n",
    "height, bins, patches = plt.hist(noisyAvgs, alpha=0.8, bins = binBoundaries, color = 'k')\n",
    "plt.fill_betweenx([0, height.max()], ci[0], ci[1], color='r', alpha=0.3)"
   ]
  },
  {
   "cell_type": "code",
   "execution_count": 815,
   "metadata": {},
   "outputs": [
    {
     "data": {
      "image/png": "[encoded data removed]",
      "text/plain": [
       "<Figure size 432x288 with 1 Axes>"
      ]
     },
     "metadata": {
      "needs_background": "light"
     },
     "output_type": "display_data"
    }
   ],
   "source": [
    "#Low Epsilon, low sensitivity, no Oski\n",
    "epsilon = 1\n",
    "u = 50\n",
    "l = 10\n",
    "col = baldingBears_no_Oski['Salmon']\n",
    "\n",
    "noisyAvgs = []\n",
    "for i in range(10000):\n",
    "    noisyAvg = ANON_AVG_SIMPLE(col, epsilon, u, l)\n",
    "    noisyAvgs.append(noisyAvg)\n",
    "    \n",
    "binBoundaries = np.linspace(0,30,100)\n",
    "ci = norm(*norm.fit(noisyAvgs)).interval(0.95)  \n",
    "height, bins, patches = plt.hist(noisyAvgs, alpha=0.8, bins = binBoundaries, color = 'k')\n",
    "#plt.fill_betweenx([0, height.max()], ci[0], ci[1], color='r', alpha=0.3) "
   ]
  },
  {
   "cell_type": "code",
   "execution_count": 822,
   "metadata": {},
   "outputs": [
    {
     "data": {
      "image/png": "[encoded data removed]",
      "text/plain": [
       "<Figure size 432x288 with 1 Axes>"
      ]
     },
     "metadata": {
      "needs_background": "light"
     },
     "output_type": "display_data"
    }
   ],
   "source": [
    "#Low Epsilon, low sensitivity, no Oski\n",
    "epsilon = 1\n",
    "u = 50\n",
    "l = 10\n",
    "col = baldingBears['Salmon']\n",
    "\n",
    "noisyAvgs = []\n",
    "for i in range(10000):\n",
    "    noisyAvg = ANON_AVG_SIMPLE(col, epsilon, u, l)\n",
    "    noisyAvgs.append(noisyAvg)\n",
    "    \n",
    "binBoundaries = np.linspace(0,30,100)\n",
    "ci = norm(*norm.fit(noisyAvgs)).interval(0.95)  \n",
    "height, bins, patches = plt.hist(noisyAvgs, alpha=0.8, bins = binBoundaries, color = 'k')\n",
    "#plt.fill_betweenx([0, height.max()], ci[0], ci[1], color='r', alpha=0.3) "
   ]
  },
  {
   "cell_type": "markdown",
   "metadata": {},
   "source": [
    "#### Impossible to distinguish one database from another given the averages."
   ]
  },
  {
   "cell_type": "markdown",
   "metadata": {},
   "source": [
    "### 3. Think Like An Adversary, Protect Oski"
   ]
  },
  {
   "cell_type": "markdown",
   "metadata": {},
   "source": [
    "Let's assume we have a rival to our Cal Bear that wants to bring Oski down by exposing his balding woes.  \n",
    "\n",
    "Recall that the sum of the total salmon eaten in the database without Oski in it is $144$ and when we add him in the sum jumps to $192$.  Since these are \"adjacent databases, namely databases that differ by $1$ record, the substantial jump in the sum, couple with prior knowledge that Oski is a very big eater, an outlier, a jump would be a signal to an attacker, statistically speaking that could expose Oski's membership.\n",
    "\n"
   ]
  },
  {
   "cell_type": "markdown",
   "metadata": {},
   "source": [
    "#### 3.1 Threat Framework\n",
    "\n",
    "Suppose we have an attacker has heard rumors and observed fur left behind by Oski that leads him to believe with whose prior belief is that Oski has a 50-50 chance of becoming bald.  The attacker's prior belief, is that it is equally likely that Oski is in the database and not in the database.\n",
    "\n",
    "The ratio of:\n",
    "\n",
    "P(Oksi Not In the Database)/P(Oski In the Database) = 1\n",
    "\n",
    "This ratio is known in statistics as the \"Odds Ratio\".\n",
    "\n",
    "We can prove mathematically that this \"Prior Odds Ratio\" multiplied the following \"Likelihood Ratio\" is equivalent to the Odds Ratio after observing the statistical behavior of the outcome for many runs of a query approximates the \"Posterier Odds Ratio\".\n",
    "\n",
    "In short, if an attacker has a preconditioned notion about Oski's odds of being a balding bear and then the attacker observes many runs of a query on the database and the results.  If those results multiplied by the initial state move the attacker to a decision point, over a practical threashold, then Oski's privacy will be violated.\n",
    "\n",
    "In our example, let's assume that if the attacker's Odd's Ratio moves to greater than 2.  In statsitical vernacular, the Attacker has a Posterior Odds Ratio > 2, he concludes that Oksi is in the database and for this attacker he is willing to tell the world of his findings and Oski's privacy will be breached.\n",
    "\n",
    "So,\n",
    "\n",
    "Odds Ratio (Posterior) = Odds Ratio (Prior) x Likelihood Ratio \n",
    "\n",
    "An attacker can simulate the Likelihood ratio through many runs of queries on the database.  The Likelihood Ratio can also be calculated mathematically for any probability distribution. "
   ]
  },
  {
   "cell_type": "markdown",
   "metadata": {},
   "source": [
    "### 3.2 Simple Example\n",
    "\n",
    "For the moment let's illustrate our framework with a simple example.  For those that want to explore the math bhind the framework, we'll dive in after the example.  \n"
   ]
  },
  {
   "cell_type": "markdown",
   "metadata": {},
   "source": [
    "Let O be the outcome that the Differentially Privacy mechanism returns SUM >= 164\n",
    "\n",
    "Specifically we are looking for the ratio of the probability that SUM > 164 without Oski in the databae over the probability of SUM > 164 when Oski is in the database.\n",
    "\n",
    "The prior belief by our attacker is that the odds of Oski being in the database are 50-50."
   ]
  },
  {
   "cell_type": "code",
   "execution_count": 823,
   "metadata": {},
   "outputs": [],
   "source": [
    "# Set Differential Privacy Parameters for Anonymous Sum\n",
    "u = max(baldingBears_no_Oski['Salmon'])\n",
    "l = min(baldingBears_no_Oski['Salmon'])\n",
    "epsilon = 4\n",
    "col = baldingBears_no_Oski['Salmon']\n",
    "# Run the sum query 10,000 times \n",
    "# Privacy leakage is relatively high, sensitivy is low and thus even more revealing\n",
    "noisySums = []\n",
    "for i in range(10000):\n",
    "    noisySum = ANON_SUM(col, epsilon, u, l)  \n",
    "    noisySums.append(noisySum)"
   ]
  },
  {
   "cell_type": "code",
   "execution_count": 825,
   "metadata": {},
   "outputs": [
    {
     "data": {
      "text/plain": [
       "31"
      ]
     },
     "execution_count": 825,
     "metadata": {},
     "output_type": "execute_result"
    }
   ],
   "source": [
    "sum(i > 164 for i in noisySums)"
   ]
  },
  {
   "cell_type": "markdown",
   "metadata": {},
   "source": [
    "Now add Oski to the database and run the same queries again."
   ]
  },
  {
   "cell_type": "code",
   "execution_count": 826,
   "metadata": {},
   "outputs": [],
   "source": [
    "col = baldingBears['Salmon']\n",
    "# Run the sum query 10,000 times \n",
    "# Privacy leakage is relatively high, sensitivy is low and thus even more revealing\n",
    "noisySums = []\n",
    "for i in range(10000):\n",
    "    noisySum = ANON_SUM(col, epsilon, u, l)  \n",
    "    noisySums.append(noisySum)"
   ]
  },
  {
   "cell_type": "code",
   "execution_count": 827,
   "metadata": {},
   "outputs": [
    {
     "data": {
      "text/plain": [
       "9996"
      ]
     },
     "execution_count": 827,
     "metadata": {},
     "output_type": "execute_result"
    }
   ],
   "source": [
    "sum(i > 164 for i in noisySums)"
   ]
  },
  {
   "cell_type": "markdown",
   "metadata": {},
   "source": [
    "With the prior belief that the odds are 50-50 that Oksi is in the database, after seeing 10,000 runs of a privacy mechanism the attacker's belief now is that it is 322 times more likely that Oski is in the database than not in the database.  Because we set our threshold at 2 for actionable attack.  The attacker makes his announcement and spills the beans.  "
   ]
  },
  {
   "cell_type": "markdown",
   "metadata": {},
   "source": [
    "Let's try to make it harder for our attacker to breach his confidence threshold by setting our privacy parameters lower, namely tuned for less privacay leakage and run the same experiment."
   ]
  },
  {
   "cell_type": "code",
   "execution_count": 828,
   "metadata": {},
   "outputs": [],
   "source": [
    "# Set Differential Privacy Parameters for Anonymous Sum\n",
    "u = 40 # User input\n",
    "l = 10 # User input\n",
    "epsilon = 1\n",
    "col = baldingBears_no_Oski['Salmon']\n",
    "# Run the sum query 10,000 times \n",
    "# Privacy leakage is relatively high, sensitivy is low and thus even more revealing\n",
    "noisySums = []\n",
    "for i in range(10000):\n",
    "    noisySum = ANON_SUM(col, epsilon, u, l)  \n",
    "    noisySums.append(noisySum)"
   ]
  },
  {
   "cell_type": "code",
   "execution_count": 829,
   "metadata": {},
   "outputs": [
    {
     "data": {
      "text/plain": [
       "3554"
      ]
     },
     "execution_count": 829,
     "metadata": {},
     "output_type": "execute_result"
    }
   ],
   "source": [
    "sum(i > 164 for i in noisySums)"
   ]
  },
  {
   "cell_type": "code",
   "execution_count": 830,
   "metadata": {},
   "outputs": [],
   "source": [
    "# Set Differential Privacy Parameters for Anonymous Sum\n",
    "col = baldingBears['Salmon']\n",
    "# Run the sum query 10,000 times \n",
    "# Privacy leakage is relatively high, sensitivy is low and thus even more revealing\n",
    "noisySums = []\n",
    "for i in range(10000):\n",
    "    noisySum = ANON_SUM(col, epsilon, u, l)  \n",
    "    noisySums.append(noisySum)"
   ]
  },
  {
   "cell_type": "code",
   "execution_count": 831,
   "metadata": {},
   "outputs": [
    {
     "data": {
      "text/plain": [
       "6982"
      ]
     },
     "execution_count": 831,
     "metadata": {},
     "output_type": "execute_result"
    }
   ],
   "source": [
    "sum(i > 164 for i in noisySums)"
   ]
  },
  {
   "cell_type": "markdown",
   "metadata": {},
   "source": [
    "AH HA!  Now we see the Odd's Ratio for our Attacker after seeing these outcomes, move from 1 to 1.96.  This is below the assumption that the attacker will conclude Oksi is in the database.  These new parameter setting $\\epsilon = 1$ and $\\Delta = 30$ protect Oksi in this threat framework!"
   ]
  },
  {
   "cell_type": "markdown",
   "metadata": {},
   "source": [
    "***"
   ]
  },
  {
   "cell_type": "markdown",
   "metadata": {},
   "source": [
    "### 3.3 Deeper Dive into a Bayesian Threat Model (Optional)\n",
    "\n",
    "Recall the standard definition of a Bayesian inference. Let O = Outcome O, noOksi mean Oski is not in the database and Oski mean Oski is in the database.  We know the following.\n",
    "\n",
    "$$P(noOski | O) = \\Bigg [\\frac{P(noOski)*P(O | noOski)}{P(O)}\\Bigg ]$$\n",
    "\n",
    "$$P(Oski | O) = \\Bigg [\\frac{P(Oski)*P(O | Oski)}{P(O)}\\Bigg ]$$"
   ]
  },
  {
   "cell_type": "markdown",
   "metadata": {},
   "source": [
    "We also know that the Odds Ratio is the following.\n",
    "\n",
    "$$\\frac{P(noOski)}{P(Oski)}$$"
   ]
  },
  {
   "cell_type": "markdown",
   "metadata": {},
   "source": [
    "Here the Odds Ratio is the \"Prior\" the belief that the attacker has prior to seeing any of the data in the database. In the example above we assumed the Attacker had good reasons to believe Oksi we in the database and thought the odds of Oksi going bald was 50% thus the Odds Ratio was 1."
   ]
  },
  {
   "cell_type": "markdown",
   "metadata": {},
   "source": [
    "Take the ratio of the first two equations, placing the second in the numerator and the first in the demoninator. (It does not really matter).  We get the following.\n",
    "\n",
    "$$ \\frac{P(Oski | O)}{P(noOski | O)} = \\Bigg[ \\frac{P(Oski) * P(O|Oski)}{P(noOski) * P(O | noOski)}\\Bigg ]= $$ \n",
    "\n"
   ]
  },
  {
   "cell_type": "markdown",
   "metadata": {},
   "source": [
    "\n",
    "$$ \\Bigg[ \\frac{P(Oski)}{P(noOski)} \\Bigg ] * \\Bigg [\\frac{P(O | Oski)}{P(O | noOski}\\Bigg ] $$\n",
    "\n",
    "Simply, "
   ]
  },
  {
   "cell_type": "markdown",
   "metadata": {},
   "source": [
    "$$ \\frac{P(Oski | O)}{P(noOski | O)} = \\Bigg[ \\frac{P(Oski)}{P(noOski)} \\Bigg ] * \\Bigg [\\frac{P(O | Oski)}{P(O | noOski}\\Bigg ] $$"
   ]
  },
  {
   "cell_type": "markdown",
   "metadata": {},
   "source": [
    "**This is very simply the Odds Ratio after observing the database* equal to the Odds Ratio prior to observing the database (the Adversary's prior belief, multiplied by the **Likelhood Ratio of the outcome, conditioned on whether or not Oski is in the database!**"
   ]
  },
  {
   "cell_type": "markdown",
   "metadata": {},
   "source": [
    "The first term on the right hand side is assumed about the Attacker, the second term is observed through statistical runs of the query (or computed mathematically) and the product yeilds the Attackers belief after observing the database. In the previous simple example above we set the threshold for for a successful attack at 2, but this threshold could be set for a practical privacy level that is use case dependent."
   ]
  }
 ],
 "metadata": {
  "kernelspec": {
   "display_name": "Python 3",
   "language": "python",
   "name": "python3"
  },
  "language_info": {
   "codemirror_mode": {
    "name": "ipython",
    "version": 3
   },
   "file_extension": ".py",
   "mimetype": "text/x-python",
   "name": "python",
   "nbconvert_exporter": "python",
   "pygments_lexer": "ipython3",
   "version": "3.7.4"
  }
 },
 "nbformat": 4,
 "nbformat_minor": 4
}
