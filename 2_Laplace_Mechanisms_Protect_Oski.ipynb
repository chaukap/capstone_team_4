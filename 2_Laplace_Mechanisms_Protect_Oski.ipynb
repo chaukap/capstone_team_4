{
 "cells": [
  {
   "cell_type": "code",
   "execution_count": 16,
   "metadata": {},
   "outputs": [],
   "source": [
    "import numpy as np\n",
    "import pandas as pd\n",
    "import matplotlib.pyplot as plt\n",
    "from scipy import stats\n",
    "from scipy.stats import laplace\n",
    "from scipy.stats import norm\n",
    "from IPython.display import Markdown as md"
   ]
  },
  {
   "cell_type": "markdown",
   "metadata": {},
   "source": [
    "## 1. Differential Privacy Mechanisms : Introduction"
   ]
  },
  {
   "cell_type": "markdown",
   "metadata": {},
   "source": [
    "![Differential Privacy](./images/streamlinehq-protect-privacy-4-users-200.PNG)"
   ]
  },
  {
   "cell_type": "markdown",
   "metadata": {},
   "source": [
    "Differential privacy is a set of mechanisms for publicly sharing information about a dataset by describing the patterns of groups within the dataset while limiting the disclosure of information about individuals in the dataset. The goal is to enable gaining insights about a population while protecting the privacy of individuals. \n",
    "\n",
    "- Differential Privacy offers mathematical guarantees about the level of privacy afforded an individual.  These mathematical guarantees make the mechanisms attractive as a means of protection. \n",
    "\n",
    "- Differential Privacy mechanisms act as a filter of the true responses from queries to a database.  These filters perturb the true answers just enough to keep the contributions of individual records private. These types of queries are typically referred to as \"aggregation queries\".\n",
    "\n",
    "- In theory, differential privacy results can provide mathematical gaurantees on the level of privacy afforded.  This is what makes them most attractive.\n",
    "\n",
    "- In practice, if implemented appropriately, differentially private queries will return answers that are a) useful and b) keep an individual's membership in the database private\n",
    "\n",
    "- All differential privacy mechanisms work by injecting a perturbation in the output of a query.  What? Thats right, the answer returned by the query differs potentially from the true answer.\n",
    "\n",
    "- The perturbation comes in the form of either adding \"noise\"  to the true answer (adding or subtracting a random amount fro the true answer) as is the case with **Laplacian Mechanisms** or **Gaussian Mechanisms**, or potentially returning the wrong answer some times, as is the case with **Exponential Mechanisms**.\n",
    "\n",
    "- Now that we understand what Differntial Privacy tries to guarantee on an intuitive level, we want to add a \"knob\" that determines the level of that protection.  We can turn the knob (or knobs) to increase or decrease the level of privacy. The first knob comes in the form of the parameter $\\epsilon$. The second knob comes in the form of the parameter $\\Delta$.\n",
    "\n",
    "- **Think lower $\\epsilon$ is higher privacy!** \n",
    "\n",
    "- Envision $\\epsilon$ as a knob.  \n",
    "\n",
    "![Knob](./images/volume.PNG)\n",
    "\n",
    "- The higher you turn the knob, the lower the privacy.\n",
    "\n",
    "- But practical implementations require the careful choice of $\\epsilon$ and $\\Delta$ to produce privacy in practice and useful results from queries.\n"
   ]
  },
  {
   "cell_type": "markdown",
   "metadata": {},
   "source": [
    "## 2. Laplacian Differental Privacy Mechanisms\n",
    "\n",
    "Laplacian based mechanisms are one of the most common in Differential Privacy, often referred to as the workhorse of Differential Privacy.  While the underlying mathematics and the concommittant privacy guaratees are beyond the scope of this notebook, let's take look at the Laplace function and how it forms the basis for a differentially private query mechanism.\n"
   ]
  },
  {
   "cell_type": "markdown",
   "metadata": {},
   "source": [
    "### 2.1 The Laplace Function\n",
    "\n",
    "At a high level the Laplace function is a \"double exponential\" function.  It is a symmetric function around a location x, where the highest value of the function lies at x and the function has what is called exponentional decay from that point.  The steepness of the decay varies with two parameters and their can be a displacement from x in either direction on the x-axis, but generall speaking Laplace functions have a very distinct shape."
   ]
  },
  {
   "cell_type": "markdown",
   "metadata": {},
   "source": [
    "![Laplace](./images/Laplace.png)\n",
    "\n",
    "*Credit: Wikipedia*"
   ]
  },
  {
   "cell_type": "markdown",
   "metadata": {},
   "source": [
    "In this section we expose a Laplace Differential Privacy Mechanism for you to use.  Let's start with a very simple example of injecting noise to a single number.  From this exercise you can see the masking effect of perturbing a number just enough to disguise its actual value and to understand the formal privacy guarantee."
   ]
  },
  {
   "cell_type": "markdown",
   "metadata": {},
   "source": [
    "### 2.2 Noisy Values for a Single Number Drawn from the Laplace Distribution"
   ]
  },
  {
   "cell_type": "markdown",
   "metadata": {},
   "source": [
    "Here we demonstrate the bahavior of a Laplacian Differential Privacy Mechanism by taking a single number, referred to as the true number, and returning a number that is drawn from a Laplace distribution, the noisy number. This noisy number is drawn from a probability distribution centered at the value of the true number."
   ]
  },
  {
   "cell_type": "markdown",
   "metadata": {},
   "source": [
    "Recall that a Laplace mechanism has 3 parameters:\n",
    "\n",
    "- mu = $\\mu$, the center of the Laplace function itself, here the true number x.\n",
    "- epsilon = $\\epsilon$, the privacy leakage of the query (We explored $\\epsilon$ in the previous notebook holding sensitivity constant)\n",
    "- sensitivity = $\\Delta$, a query-dependent parameter which captures the potential difference in the outcome of a query performed on two databases that differ by 1 record"
   ]
  },
  {
   "cell_type": "code",
   "execution_count": 17,
   "metadata": {},
   "outputs": [],
   "source": [
    "def laplaceMechanism(x, epsilon, sensitivity):\n",
    "    noisyX =  np.random.laplace(x, sensitivity/epsilon, 1)[0]\n",
    "    return noisyX"
   ]
  },
  {
   "cell_type": "markdown",
   "metadata": {},
   "source": [
    "Let's explore various parameters and observe how they act to disguise our number x.  \n",
    "\n",
    "First, consider the mechanism employing a \"high level\" of privacy by setting $\\epsilon$ low (high privacy = low leakage). \n",
    "\n",
    "Here we set the sensitivity equal to 1, mainly for observational purposes."
   ]
  },
  {
   "cell_type": "code",
   "execution_count": 33,
   "metadata": {},
   "outputs": [],
   "source": [
    "# Choose parameters with very low epsilon (little privacy leakage)\n",
    "x = 0\n",
    "epsilon = .5\n",
    "sensitivity = 1"
   ]
  },
  {
   "cell_type": "markdown",
   "metadata": {},
   "source": [
    "Run the Laplace Mechanism on x once (you can run the cell as many times as you like) and observe the values output by the mechanism.  We call the output noisyNum as it it the true number with added \"Laplacian noise\"."
   ]
  },
  {
   "cell_type": "code",
   "execution_count": 34,
   "metadata": {},
   "outputs": [
    {
     "name": "stdout",
     "output_type": "stream",
     "text": [
      "6.29271095409327\n"
     ]
    }
   ],
   "source": [
    "# What happens to the value of x?\n",
    "noiseNum = laplaceMechanism(x, epsilon, sensitivity)\n",
    "print(noiseNum)"
   ]
  },
  {
   "cell_type": "markdown",
   "metadata": {},
   "source": [
    "So you can observe:\n",
    "\n",
    "- when the true value of x = 0 is input into the mechanism the noisy number output from the mechanism is different, varying both in the positive and negative direction.  \n",
    "- the output number is different everytime, its randomized\n",
    "- the randomization of the output is centered around 0 with the output value often close to 0 but sometimes substantially different. \n",
    "\n",
    "The output number is drawn from the set of values -big number to +big number with a probability equal to the height of the Laplace function (y axis).  So the most likely outcomes are near 0 but numbers substantially different from 0 will be output.\n",
    "\n",
    "To see what the output of the Laplace Mechanism many runs, let run it 1000 times, then plot the distribution around the x value chosen.\n",
    "\n",
    "**What should the distribution of 10,000 runs look like?**"
   ]
  },
  {
   "cell_type": "code",
   "execution_count": 35,
   "metadata": {},
   "outputs": [
    {
     "data": {
      "image/png": "[encoded data removed]",
      "text/plain": [
       "<Figure size 432x288 with 1 Axes>"
      ]
     },
     "metadata": {
      "needs_background": "light"
     },
     "output_type": "display_data"
    }
   ],
   "source": [
    "noiseNums = []\n",
    "for i in range(10000):\n",
    "    noiseNum = laplaceMechanism(x, epsilon, sensitivity)\n",
    "    noiseNums.append(noiseNum)\n",
    "    \n",
    "binBoundaries = np.linspace(-10,10,100)\n",
    "plt.hist(np.asarray(noiseNums, dtype='float'), bins=binBoundaries, color = 'm')\n",
    "plt.show()"
   ]
  },
  {
   "cell_type": "markdown",
   "metadata": {},
   "source": [
    "Observe that after 10,000 runs the noisy number outputted from the Laplace mechanism reflects the same shape as the theoretical Laplace function.  If you overlay the theoretical probability density function on the sampled output fro 10,000 runs, you can see that the output looks a lot like the function itself."
   ]
  },
  {
   "cell_type": "code",
   "execution_count": 36,
   "metadata": {},
   "outputs": [
    {
     "data": {
      "image/png": "[encoded data removed]",
      "text/plain": [
       "<Figure size 432x288 with 1 Axes>"
      ]
     },
     "metadata": {
      "needs_background": "light"
     },
     "output_type": "display_data"
    }
   ],
   "source": [
    "fig, ax = plt.subplots(1, 1)\n",
    "x = np.linspace(laplace.ppf(0.001), laplace.ppf(0.999), 100)\n",
    "#ax.plot(x, laplace.pdf(x),'r-', lw=5, alpha= .5, label='laplace pdf')\n",
    "rv = laplace(0, 2*sensitivity/epsilon)\n",
    "ax.plot(x, rv.pdf(x), 'r-', lw=5, label='Laplace Probability ')\n",
    "r = noiseNums\n",
    "ax.hist(r, density=True, histtype='stepfilled', alpha=0.6, bins = binBoundaries, label= \"Sample Distribution\", color = 'k')\n",
    "ax.legend(loc='best', frameon=False)\n",
    "plt.show()"
   ]
  },
  {
   "cell_type": "markdown",
   "metadata": {},
   "source": [
    "### 2.3 What can sampled confidence intervals tell us?"
   ]
  },
  {
   "cell_type": "markdown",
   "metadata": {},
   "source": [
    "*For those who are statistically curious here is a deeper dive into the behavior of the Laplace Mechanism.  For those less interested, skip to the next section.*"
   ]
  },
  {
   "cell_type": "markdown",
   "metadata": {},
   "source": [
    "What can we observe here in terms of practical implications for database queries using Laplacian Mechanisms?"
   ]
  },
  {
   "cell_type": "code",
   "execution_count": 37,
   "metadata": {},
   "outputs": [
    {
     "data": {
      "text/plain": [
       "<matplotlib.collections.PolyCollection at 0x1a20aadb90>"
      ]
     },
     "execution_count": 37,
     "metadata": {},
     "output_type": "execute_result"
    },
    {
     "data": {
      "image/png": "[encoded data removed]",
      "text/plain": [
       "<Figure size 432x288 with 1 Axes>"
      ]
     },
     "metadata": {
      "needs_background": "light"
     },
     "output_type": "display_data"
    }
   ],
   "source": [
    "#Calculate percentiles for samples, 50% of the sampled distribution\n",
    "a = np.array(noiseNums)\n",
    "p1 = np.percentile(a, 75) \n",
    "p2 = np.percentile(a, 25)\n",
    "height, bins, patches = plt.hist(noiseNums, alpha=0.6, bins = binBoundaries, color = 'm')\n",
    "plt.fill_betweenx([0, height.max()], p1, p2, color='k', alpha=0.3)"
   ]
  },
  {
   "cell_type": "code",
   "execution_count": 40,
   "metadata": {},
   "outputs": [
    {
     "data": {
      "text/markdown": [
       "Notice with these parameters settings, 50% of the observations fall outisde of the    interval -2.71 and 2.76!"
      ],
      "text/plain": [
       "<IPython.core.display.Markdown object>"
      ]
     },
     "execution_count": 40,
     "metadata": {},
     "output_type": "execute_result"
    }
   ],
   "source": [
    "md(\"Notice with these parameters settings, 50% of the observations fall outisde of the \\\n",
    "   interval {} and {}!\".format(round(p2,2),round(p1,2)))"
   ]
  },
  {
   "cell_type": "markdown",
   "metadata": {},
   "source": [
    "This histogram and the calculations tell us that 50% of the time in our runs the value returned was 2.7 larger or smaller than the true value. That level of randomness in our output go along way towards disguising the actual true value.\n",
    "\n",
    "Now try the experiment with lower privacy, set $\\epsilon$ = 4 and $\\delta$ = 1"
   ]
  },
  {
   "cell_type": "code",
   "execution_count": 65,
   "metadata": {},
   "outputs": [],
   "source": []
  },
  {
   "cell_type": "code",
   "execution_count": 26,
   "metadata": {},
   "outputs": [
    {
     "name": "stdout",
     "output_type": "stream",
     "text": [
      "-0.3455741044920781 0.3469673344803448\n"
     ]
    },
    {
     "data": {
      "text/plain": [
       "<matplotlib.collections.PolyCollection at 0x1a20775dd0>"
      ]
     },
     "execution_count": 26,
     "metadata": {},
     "output_type": "execute_result"
    },
    {
     "data": {
      "image/png": "[encoded data removed]",
      "text/plain": [
       "<Figure size 432x288 with 1 Axes>"
      ]
     },
     "metadata": {
      "needs_background": "light"
     },
     "output_type": "display_data"
    }
   ],
   "source": [
    "# Choose parameters with very high epsilon (lots of privacy leakage)\n",
    "x = 0\n",
    "epsilon = 4\n",
    "sensitivity = 1\n",
    "noiseNums = []\n",
    "for i in range(10000):\n",
    "    noiseNum = laplaceMechanism(x, epsilon, sensitivity)\n",
    "    noiseNums.append(noiseNum)\n",
    "#Calculate percentiles for samples, 50%\n",
    "a = np.array(noiseNums)\n",
    "p1 = np.percentile(a, 75) \n",
    "p2 = np.percentile(a, 25)\n",
    "print(p2, p1) \n",
    "binBoundaries = np.linspace(-10,10,100)\n",
    "ci = norm(*norm.fit(noiseNums)).interval(0.50)  \n",
    "height, bins, patches = plt.hist(noiseNums, alpha=0.8, bins = binBoundaries, color = 'm')\n",
    "plt.fill_betweenx([0, height.max()], p2, p1, color='k', alpha=0.3) "
   ]
  },
  {
   "cell_type": "markdown",
   "metadata": {},
   "source": [
    "**Big difference! Look at the histogram more illustrative bin boundaries.**"
   ]
  },
  {
   "cell_type": "code",
   "execution_count": 27,
   "metadata": {},
   "outputs": [
    {
     "data": {
      "text/plain": [
       "<matplotlib.collections.PolyCollection at 0x1a20345990>"
      ]
     },
     "execution_count": 27,
     "metadata": {},
     "output_type": "execute_result"
    },
    {
     "data": {
      "image/png": "[encoded data removed]",
      "text/plain": [
       "<Figure size 432x288 with 1 Axes>"
      ]
     },
     "metadata": {
      "needs_background": "light"
     },
     "output_type": "display_data"
    }
   ],
   "source": [
    "binBoundaries = np.linspace(-1,1,100)\n",
    "ci = norm(*norm.fit(noiseNums)).interval(0.50)  \n",
    "height, bins, patches = plt.hist(noiseNums, alpha=0.8, bins = binBoundaries, color = 'm')\n",
    "plt.fill_betweenx([0, height.max()], p2, p1, color='k', alpha=0.3) "
   ]
  },
  {
   "cell_type": "code",
   "execution_count": 28,
   "metadata": {},
   "outputs": [
    {
     "data": {
      "text/markdown": [
       "Notice with these pa rameters settings, 50% of the observations fall outisde of the    interval -0.3455741044920781 and 0.3469673344803448!"
      ],
      "text/plain": [
       "<IPython.core.display.Markdown object>"
      ]
     },
     "execution_count": 28,
     "metadata": {},
     "output_type": "execute_result"
    }
   ],
   "source": [
    "md(\"Notice with these pa rameters settings, 50% of the observations fall outisde of the \\\n",
    "   interval {} and {}!\".format(p2,p1))"
   ]
  },
  {
   "cell_type": "markdown",
   "metadata": {},
   "source": [
    "The histogram and calculation show us that 50% of the time the value returned from a query will be within .34 of the true value!"
   ]
  },
  {
   "cell_type": "markdown",
   "metadata": {},
   "source": [
    "What does this exercise show us?\n",
    "\n",
    "With an $\\epsilon$ = .5 it will be very hard to to have any confidence about the true value of our number, with $\\epsilon$ = 4 it will gain a lot more confidence about the true value of our number with our database queries."
   ]
  },
  {
   "cell_type": "markdown",
   "metadata": {},
   "source": [
    "### 3. Explore Our Balding Bears Database and DP Laplace Mechanism COUNT"
   ]
  },
  {
   "cell_type": "markdown",
   "metadata": {},
   "source": [
    "Recall our example where we are studying the impact of dietary habits of the brown bear and the potential implications of diet on the loss of fur of our salmon eating friends. \n",
    "\n",
    "Specifically, our example database contains a list of bears, all of whom are losing their fur.  They are balding.  No self-respecting bear wants such a sensitive fact made public. Disclosure of a bear's membership in this database means breaching the privacy of the bear's senstive attribute: they are going bald.\n",
    "\n",
    "Consider the facts around the balding bears database.\n",
    "\n",
    "- When the salmon are running large, talented and strong brown bears can catch in excess of 30 salmon per day\n",
    "- Lesser talented, \"normal\" bears tend to collect and eat 10 - 20 salmon per day\n",
    "- There may be bears with unique salmon catching talent in the range for 50+ salmon per day\n",
    "- Our differential privacy mechanisms need to protect them all!"
   ]
  },
  {
   "cell_type": "markdown",
   "metadata": {},
   "source": [
    "![Oski](./images/oski.png)"
   ]
  },
  {
   "cell_type": "markdown",
   "metadata": {},
   "source": [
    "Let's first explore a queries to **count** the number of bears in the database. An differentially private **count** aggregation query is the simplest to explore.  So let's take a look!\n",
    "\n",
    "Recall the eating habits of our bears on July 30th, including our salmon catching star Oski, who ate a whopping 48 salmon that day.\n",
    "\n",
    "[10, 13, 14, 12, 18, 14, 18, 17, 16, 12, 48]\n",
    "\n"
   ]
  },
  {
   "cell_type": "code",
   "execution_count": 58,
   "metadata": {},
   "outputs": [],
   "source": [
    "def ANON_COUNT(col, epsilon, sensitivity):\n",
    "    trueCount = np.shape(col)[0]\n",
    "    noisyCount = laplaceMechanism(trueCount, epsilon, sensitivity)\n",
    "    return noisyCount"
   ]
  },
  {
   "cell_type": "markdown",
   "metadata": {},
   "source": [
    "For simplicity we create a pandas dataframe of all of our balding bears."
   ]
  },
  {
   "cell_type": "code",
   "execution_count": 43,
   "metadata": {},
   "outputs": [],
   "source": [
    "#Create a dataframe of the balding bears\n",
    "baldingBears = pd.DataFrame({'Bears': ['Avalanche', 'Bananas', 'Benny', 'Boomer', 'Grizz', 'Kody', 'Monte', 'Nanook', 'Ranger', 'Scott Highlander', \n",
    "                                       'Oski'],'School': ['Kutztown', 'U of Maine', 'Morgan State', 'Lake Forest', 'Oakland', 'Cascadia', 'U Montana', \n",
    "                                       'Bowdoin', 'Drew', 'UC Riverside','Berkeley'], 'Salmon':[10, 13, 14, 12, 18, 14, 18, 17, 16, 12, 48]})\n"
   ]
  },
  {
   "cell_type": "code",
   "execution_count": 44,
   "metadata": {},
   "outputs": [],
   "source": [
    "# add 1 to each index\n",
    "baldingBears.index = baldingBears.index + 1"
   ]
  },
  {
   "cell_type": "code",
   "execution_count": 45,
   "metadata": {},
   "outputs": [
    {
     "data": {
      "text/html": [
       "<div>\n",
       "<style scoped>\n",
       "    .dataframe tbody tr th:only-of-type {\n",
       "        vertical-align: middle;\n",
       "    }\n",
       "\n",
       "    .dataframe tbody tr th {\n",
       "        vertical-align: top;\n",
       "    }\n",
       "\n",
       "    .dataframe thead th {\n",
       "        text-align: right;\n",
       "    }\n",
       "</style>\n",
       "<table border=\"1\" class=\"dataframe\">\n",
       "  <thead>\n",
       "    <tr style=\"text-align: right;\">\n",
       "      <th></th>\n",
       "      <th>Bears</th>\n",
       "      <th>School</th>\n",
       "      <th>Salmon</th>\n",
       "    </tr>\n",
       "  </thead>\n",
       "  <tbody>\n",
       "    <tr>\n",
       "      <td>1</td>\n",
       "      <td>Avalanche</td>\n",
       "      <td>Kutztown</td>\n",
       "      <td>10</td>\n",
       "    </tr>\n",
       "    <tr>\n",
       "      <td>2</td>\n",
       "      <td>Bananas</td>\n",
       "      <td>U of Maine</td>\n",
       "      <td>13</td>\n",
       "    </tr>\n",
       "    <tr>\n",
       "      <td>3</td>\n",
       "      <td>Benny</td>\n",
       "      <td>Morgan State</td>\n",
       "      <td>14</td>\n",
       "    </tr>\n",
       "    <tr>\n",
       "      <td>4</td>\n",
       "      <td>Boomer</td>\n",
       "      <td>Lake Forest</td>\n",
       "      <td>12</td>\n",
       "    </tr>\n",
       "    <tr>\n",
       "      <td>5</td>\n",
       "      <td>Grizz</td>\n",
       "      <td>Oakland</td>\n",
       "      <td>18</td>\n",
       "    </tr>\n",
       "    <tr>\n",
       "      <td>6</td>\n",
       "      <td>Kody</td>\n",
       "      <td>Cascadia</td>\n",
       "      <td>14</td>\n",
       "    </tr>\n",
       "    <tr>\n",
       "      <td>7</td>\n",
       "      <td>Monte</td>\n",
       "      <td>U Montana</td>\n",
       "      <td>18</td>\n",
       "    </tr>\n",
       "    <tr>\n",
       "      <td>8</td>\n",
       "      <td>Nanook</td>\n",
       "      <td>Bowdoin</td>\n",
       "      <td>17</td>\n",
       "    </tr>\n",
       "    <tr>\n",
       "      <td>9</td>\n",
       "      <td>Ranger</td>\n",
       "      <td>Drew</td>\n",
       "      <td>16</td>\n",
       "    </tr>\n",
       "    <tr>\n",
       "      <td>10</td>\n",
       "      <td>Scott Highlander</td>\n",
       "      <td>UC Riverside</td>\n",
       "      <td>12</td>\n",
       "    </tr>\n",
       "    <tr>\n",
       "      <td>11</td>\n",
       "      <td>Oski</td>\n",
       "      <td>Berkeley</td>\n",
       "      <td>48</td>\n",
       "    </tr>\n",
       "  </tbody>\n",
       "</table>\n",
       "</div>"
      ],
      "text/plain": [
       "               Bears        School  Salmon\n",
       "1          Avalanche      Kutztown      10\n",
       "2            Bananas    U of Maine      13\n",
       "3              Benny  Morgan State      14\n",
       "4             Boomer   Lake Forest      12\n",
       "5              Grizz       Oakland      18\n",
       "6               Kody      Cascadia      14\n",
       "7              Monte     U Montana      18\n",
       "8             Nanook       Bowdoin      17\n",
       "9             Ranger          Drew      16\n",
       "10  Scott Highlander  UC Riverside      12\n",
       "11              Oski      Berkeley      48"
      ]
     },
     "execution_count": 45,
     "metadata": {},
     "output_type": "execute_result"
    }
   ],
   "source": [
    "baldingBears"
   ]
  },
  {
   "cell_type": "markdown",
   "metadata": {},
   "source": [
    "With Oski in the database we have 11 members, our \"trueCount\".  Let's follow the same path of exploration and first choose privacy parameters that are considered to have very low privacy leakage, namely a low $\\epsilon$ value = $.5$.  Here we can set the sensitivity parameter $\\Delta$ = $1$ because the counts or two different databases that differ by only one record will differ by only one count.  Note this is an \"unbounded\" sensitivity.  A \"bounded\" sensitivity would be $2$ The difference relates to how we define difference, but for the purposes of this discussion we will choose $\\Delta = 1$."
   ]
  },
  {
   "cell_type": "code",
   "execution_count": 126,
   "metadata": {},
   "outputs": [],
   "source": [
    "# Choose parameters with very low epsilon (little privacy leakage)\n",
    "trueCount = 11\n",
    "epsilon = .5\n",
    "sensitivity = 1\n",
    "col = baldingBears['Salmon']"
   ]
  },
  {
   "cell_type": "markdown",
   "metadata": {},
   "source": [
    "Repeatedly execute the following cell to observe the output of the differentially private **count** query that employs our Laplacian Mechanism with these parameters."
   ]
  },
  {
   "cell_type": "code",
   "execution_count": 127,
   "metadata": {},
   "outputs": [
    {
     "name": "stdout",
     "output_type": "stream",
     "text": [
      "15.781905477326859\n"
     ]
    }
   ],
   "source": [
    "noisyCount = ANON_COUNT(col, epsilon, sensitivity)\n",
    "print(noisyCount)                   "
   ]
  },
  {
   "cell_type": "markdown",
   "metadata": {},
   "source": [
    "Now run the **count** query $10,000$ times on the badling bears database and observe the results."
   ]
  },
  {
   "cell_type": "code",
   "execution_count": 128,
   "metadata": {},
   "outputs": [],
   "source": [
    "noisyCounts = []\n",
    "for i in range(10000):\n",
    "    noisyCount = ANON_COUNT(col, epsilon, sensitivity)  \n",
    "    noisyCounts.append(noisyCount)"
   ]
  },
  {
   "cell_type": "code",
   "execution_count": 129,
   "metadata": {},
   "outputs": [
    {
     "data": {
      "text/plain": [
       "<matplotlib.collections.PolyCollection at 0x1a1c256bd0>"
      ]
     },
     "execution_count": 129,
     "metadata": {},
     "output_type": "execute_result"
    },
    {
     "data": {
      "image/png": "[encoded data removed]",
      "text/plain": [
       "<Figure size 432x288 with 1 Axes>"
      ]
     },
     "metadata": {
      "needs_background": "light"
     },
     "output_type": "display_data"
    }
   ],
   "source": [
    "#Calculate percentiles for samples, 50%\n",
    "a = np.array(noisyCounts)\n",
    "p1 = np.percentile(a, 75) \n",
    "p2 = np.percentile(a, 25)\n",
    "binBoundaries = np.linspace(-10,30,100)  \n",
    "height, bins, patches = plt.hist(noisyCounts, alpha=0.8, bins = binBoundaries, color = 'm')\n",
    "plt.fill_betweenx([0, height.max()], p2, p1, color='k', alpha=0.3) "
   ]
  },
  {
   "cell_type": "code",
   "execution_count": 137,
   "metadata": {},
   "outputs": [
    {
     "data": {
      "text/markdown": [
       "Notice with these pa rameters settings, 50% of the observations fall outisde of the    interval 8.061398252164583 and 13.795550926256457!"
      ],
      "text/plain": [
       "<IPython.core.display.Markdown object>"
      ]
     },
     "execution_count": 137,
     "metadata": {},
     "output_type": "execute_result"
    }
   ],
   "source": [
    "md(\"Notice with these pa rameters settings, 50% of the observations fall outisde of the \\\n",
    "   interval {} and {}!\".format(p2,p1))"
   ]
  },
  {
   "cell_type": "code",
   "execution_count": 138,
   "metadata": {},
   "outputs": [],
   "source": [
    "# Choose parameters with very high epsilon (subsstanital privacy leakage)\n",
    "epsilon = 5"
   ]
  },
  {
   "cell_type": "code",
   "execution_count": 139,
   "metadata": {},
   "outputs": [],
   "source": [
    "noisyCounts = []\n",
    "for i in range(10000):\n",
    "    noisyCount = ANON_COUNT(col, epsilon, sensitivity)  \n",
    "    noisyCounts.append(noisyCount)"
   ]
  },
  {
   "cell_type": "code",
   "execution_count": 142,
   "metadata": {},
   "outputs": [
    {
     "data": {
      "text/plain": [
       "<matplotlib.collections.PolyCollection at 0x1a1c66bb50>"
      ]
     },
     "execution_count": 142,
     "metadata": {},
     "output_type": "execute_result"
    },
    {
     "data": {
      "image/png": "[encoded data removed]",
      "text/plain": [
       "<Figure size 432x288 with 1 Axes>"
      ]
     },
     "metadata": {
      "needs_background": "light"
     },
     "output_type": "display_data"
    }
   ],
   "source": [
    "a = np.array(noisyCounts)\n",
    "p1 = np.percentile(a, 75) \n",
    "p2 = np.percentile(a, 25)\n",
    "binBoundaries = np.linspace(5,15,100) \n",
    "height, bins, patches = plt.hist(noisyCounts, alpha=0.8, bins = binBoundaries, color = 'm')\n",
    "plt.fill_betweenx([0, height.max()], p2, p1, color='k', alpha=0.3) "
   ]
  },
  {
   "cell_type": "code",
   "execution_count": 143,
   "metadata": {},
   "outputs": [
    {
     "data": {
      "text/markdown": [
       "Notice with these parameter settings, 50% of the observations fall inside of the    interval 10.718006190070863 and 11.280617700983527!"
      ],
      "text/plain": [
       "<IPython.core.display.Markdown object>"
      ]
     },
     "execution_count": 143,
     "metadata": {},
     "output_type": "execute_result"
    }
   ],
   "source": [
    "md(\"Notice with these parameter settings, 50% of the observations fall inside of the \\\n",
    "   interval {} and {}!\".format(p2,p1))"
   ]
  },
  {
   "cell_type": "markdown",
   "metadata": {},
   "source": [
    "Notice with the lower privacy gaurantees that our samples suggest that there is a 50% chance that the count returned by the differential privacy mechanism will fall within .5 of the true count or be within approximately 5% of the true count!  Play with the parameters and re-run the previous 4 cells."
   ]
  },
  {
   "cell_type": "markdown",
   "metadata": {},
   "source": [
    "### 4. Explore Our Balding Bears Database, DP Laplace Mechanism SUM and Sensitivity $\\Delta$ "
   ]
  },
  {
   "cell_type": "markdown",
   "metadata": {},
   "source": [
    "Next we explore the aggregation query **sum**.  Suppose we want to know the total number of salmon eaten on July 30th, by all of our bears combined.  But we want to protect the privacy of every bear in the database and **potential new members, outliers (also referred to as underepresented populations)**.\n",
    "\n",
    "First consider the database of bears without Oski.  Suppose we query the total of all salmon eaten by our bears. Without Oski in the database the sum is $144$. \n",
    "\n",
    "Set the parameter $\\epsilon$ at 1, a fairly private setting for most use cases.   "
   ]
  },
  {
   "cell_type": "code",
   "execution_count": 56,
   "metadata": {},
   "outputs": [],
   "source": [
    "def ANON_SUM(col, epsilon, sensitivity):\n",
    "    trueSum = np.sum(col)\n",
    "    noisySum = laplaceMechanism(trueSum, epsilon,sensitivity)\n",
    "    return noisySum"
   ]
  },
  {
   "cell_type": "code",
   "execution_count": 47,
   "metadata": {},
   "outputs": [],
   "source": [
    "#Create a dataframe of the balding bears without Oski\n",
    "baldingBears_no_Oski = pd.DataFrame({'Bears': ['Avalanche', 'Bananas', 'Benny', 'Boomer', 'Grizz', 'Kody', 'Monte', 'Nanook', 'Ranger', 'Scott Highlander'],\n",
    "                                    'School': ['Kutztown', 'U of Maine', 'Morgan State', 'Lake Forest', 'Oakland', 'Cascadia', 'U Montana', \n",
    "                                       'Bowdoin', 'Drew', 'UC Riverside'], \n",
    "                                    'Salmon':[10, 13, 14, 12, 18, 14, 18, 17, 16, 12]})\n"
   ]
  },
  {
   "cell_type": "code",
   "execution_count": 49,
   "metadata": {},
   "outputs": [],
   "source": [
    "# add 1 to each index\n",
    "baldingBears_no_Oski.index = baldingBears_no_Oski.index + 1"
   ]
  },
  {
   "cell_type": "code",
   "execution_count": 50,
   "metadata": {},
   "outputs": [
    {
     "data": {
      "text/html": [
       "<div>\n",
       "<style scoped>\n",
       "    .dataframe tbody tr th:only-of-type {\n",
       "        vertical-align: middle;\n",
       "    }\n",
       "\n",
       "    .dataframe tbody tr th {\n",
       "        vertical-align: top;\n",
       "    }\n",
       "\n",
       "    .dataframe thead th {\n",
       "        text-align: right;\n",
       "    }\n",
       "</style>\n",
       "<table border=\"1\" class=\"dataframe\">\n",
       "  <thead>\n",
       "    <tr style=\"text-align: right;\">\n",
       "      <th></th>\n",
       "      <th>Bears</th>\n",
       "      <th>School</th>\n",
       "      <th>Salmon</th>\n",
       "    </tr>\n",
       "  </thead>\n",
       "  <tbody>\n",
       "    <tr>\n",
       "      <td>1</td>\n",
       "      <td>Avalanche</td>\n",
       "      <td>Kutztown</td>\n",
       "      <td>10</td>\n",
       "    </tr>\n",
       "    <tr>\n",
       "      <td>2</td>\n",
       "      <td>Bananas</td>\n",
       "      <td>U of Maine</td>\n",
       "      <td>13</td>\n",
       "    </tr>\n",
       "    <tr>\n",
       "      <td>3</td>\n",
       "      <td>Benny</td>\n",
       "      <td>Morgan State</td>\n",
       "      <td>14</td>\n",
       "    </tr>\n",
       "    <tr>\n",
       "      <td>4</td>\n",
       "      <td>Boomer</td>\n",
       "      <td>Lake Forest</td>\n",
       "      <td>12</td>\n",
       "    </tr>\n",
       "    <tr>\n",
       "      <td>5</td>\n",
       "      <td>Grizz</td>\n",
       "      <td>Oakland</td>\n",
       "      <td>18</td>\n",
       "    </tr>\n",
       "    <tr>\n",
       "      <td>6</td>\n",
       "      <td>Kody</td>\n",
       "      <td>Cascadia</td>\n",
       "      <td>14</td>\n",
       "    </tr>\n",
       "    <tr>\n",
       "      <td>7</td>\n",
       "      <td>Monte</td>\n",
       "      <td>U Montana</td>\n",
       "      <td>18</td>\n",
       "    </tr>\n",
       "    <tr>\n",
       "      <td>8</td>\n",
       "      <td>Nanook</td>\n",
       "      <td>Bowdoin</td>\n",
       "      <td>17</td>\n",
       "    </tr>\n",
       "    <tr>\n",
       "      <td>9</td>\n",
       "      <td>Ranger</td>\n",
       "      <td>Drew</td>\n",
       "      <td>16</td>\n",
       "    </tr>\n",
       "    <tr>\n",
       "      <td>10</td>\n",
       "      <td>Scott Highlander</td>\n",
       "      <td>UC Riverside</td>\n",
       "      <td>12</td>\n",
       "    </tr>\n",
       "  </tbody>\n",
       "</table>\n",
       "</div>"
      ],
      "text/plain": [
       "               Bears        School  Salmon\n",
       "1          Avalanche      Kutztown      10\n",
       "2            Bananas    U of Maine      13\n",
       "3              Benny  Morgan State      14\n",
       "4             Boomer   Lake Forest      12\n",
       "5              Grizz       Oakland      18\n",
       "6               Kody      Cascadia      14\n",
       "7              Monte     U Montana      18\n",
       "8             Nanook       Bowdoin      17\n",
       "9             Ranger          Drew      16\n",
       "10  Scott Highlander  UC Riverside      12"
      ]
     },
     "execution_count": 50,
     "metadata": {},
     "output_type": "execute_result"
    }
   ],
   "source": [
    "baldingBears_no_Oski"
   ]
  },
  {
   "cell_type": "code",
   "execution_count": 199,
   "metadata": {},
   "outputs": [],
   "source": [
    "# Set Differential Privacy Parameters for Anonymous Sum\n",
    "epsilon = 1\n",
    "col = baldingBears_no_Oski['Salmon']\n",
    "u = max(col)\n",
    "l = min(col)\n",
    "sensitivity = abs(u-l)"
   ]
  },
  {
   "cell_type": "markdown",
   "metadata": {},
   "source": [
    "Repeatedly execute the following cell to observe the output of the differentially private **sum** query that employs our Laplacian Mechanism with these parameters."
   ]
  },
  {
   "cell_type": "code",
   "execution_count": 200,
   "metadata": {},
   "outputs": [
    {
     "data": {
      "text/plain": [
       "165.0697598916203"
      ]
     },
     "execution_count": 200,
     "metadata": {},
     "output_type": "execute_result"
    }
   ],
   "source": [
    "ANON_SUM(col, epsilon, sensitivity)"
   ]
  },
  {
   "cell_type": "markdown",
   "metadata": {},
   "source": [
    "Once again, let's run the **sum** query $10,000$ times."
   ]
  },
  {
   "cell_type": "code",
   "execution_count": 205,
   "metadata": {},
   "outputs": [
    {
     "data": {
      "text/plain": [
       "<matplotlib.collections.PolyCollection at 0x1a1f23a510>"
      ]
     },
     "execution_count": 205,
     "metadata": {},
     "output_type": "execute_result"
    },
    {
     "data": {
      "image/png": "[encoded data removed]",
      "text/plain": [
       "<Figure size 432x288 with 1 Axes>"
      ]
     },
     "metadata": {
      "needs_background": "light"
     },
     "output_type": "display_data"
    }
   ],
   "source": [
    "noisySums = []\n",
    "col = baldingBears_no_Oski['Salmon']\n",
    "for i in range(10000):\n",
    "    noisySum = ANON_SUM(col, epsilon, sensitivity)  \n",
    "    noisySums.append(noisySum)\n",
    "a = np.array(noisySums)\n",
    "p1 = np.percentile(a, 90) \n",
    "p2 = np.percentile(a, 10)\n",
    "binBoundaries = np.linspace(50,250,100)\n",
    "height, bins, patches = plt.hist(noisySums, alpha=0.8, bins = binBoundaries, color = 'm')\n",
    "plt.fill_betweenx([0, height.max()], p1, p2, color='k', alpha=0.3)"
   ]
  },
  {
   "cell_type": "code",
   "execution_count": 207,
   "metadata": {},
   "outputs": [
    {
     "data": {
      "text/markdown": [
       "Notice with these parameter settings, 90% of the observations fall inside of the    interval 118.42 and 169.93!"
      ],
      "text/plain": [
       "<IPython.core.display.Markdown object>"
      ]
     },
     "execution_count": 207,
     "metadata": {},
     "output_type": "execute_result"
    }
   ],
   "source": [
    "md(\"Notice with these parameter settings, 90% of the observations fall inside of the \\\n",
    "   interval {} and {}!\".format(round(p2,2),round(p1,2)))"
   ]
  },
  {
   "cell_type": "markdown",
   "metadata": {},
   "source": [
    "With a true sum of $144$, with $\\epsilon = 1$  we can see that 50% of the time the output falls within 8% of the true sum.  Depending on the mindset of the attacker, this could be enough protection for this homegeneous group or it may fall short.  If we add another bear that is a modest eater anywhere in the range of 10-18 it is going to hard to try to learn anything new about that additional bear's identity."
   ]
  },
  {
   "cell_type": "markdown",
   "metadata": {},
   "source": [
    "But what happens if we introduce a bear, like Oski into the database.  We have prior knowledge that Oski is a big eater and through count queries we can notice a new member to the database.\n",
    "\n",
    "**If we add Oski under these same parameters and run the sum query will we gain more information about whether or not Oski is the new member to the database?**"
   ]
  },
  {
   "cell_type": "code",
   "execution_count": 210,
   "metadata": {},
   "outputs": [
    {
     "data": {
      "text/plain": [
       "<matplotlib.collections.PolyCollection at 0x1a1f7651d0>"
      ]
     },
     "execution_count": 210,
     "metadata": {},
     "output_type": "execute_result"
    },
    {
     "data": {
      "image/png": "[encoded data removed]",
      "text/plain": [
       "<Figure size 432x288 with 1 Axes>"
      ]
     },
     "metadata": {
      "needs_background": "light"
     },
     "output_type": "display_data"
    }
   ],
   "source": [
    "# Query the database for sum with Oski in the database\n",
    "col = baldingBears['Salmon']\n",
    "noisySums = []\n",
    "for i in range(10000):\n",
    "    noisySum = ANON_SUM(col, epsilon,sensitivity)  \n",
    "    noisySums.append(noisySum)\n",
    "a = np.array(noisySums)\n",
    "p1 = np.percentile(a, 90) \n",
    "p2 = np.percentile(a, 10)   \n",
    "binBoundaries = np.linspace(50,250,100)\n",
    "height, bins, patches = plt.hist(noisySums, alpha=0.8, bins = binBoundaries, color = 'm')\n",
    "plt.fill_betweenx([0, height.max()], p1, p2, color='k', alpha=0.3)"
   ]
  },
  {
   "cell_type": "code",
   "execution_count": 211,
   "metadata": {},
   "outputs": [
    {
     "data": {
      "text/markdown": [
       "Notice with these parameter settings, 90% of the observations fall inside of the    interval 166.64 and 217.59!"
      ],
      "text/plain": [
       "<IPython.core.display.Markdown object>"
      ]
     },
     "execution_count": 211,
     "metadata": {},
     "output_type": "execute_result"
    }
   ],
   "source": [
    "md(\"Notice with these parameter settings, 90% of the observations fall inside of the \\\n",
    "   interval {} and {}!\".format(round(p2,2),round(p1,2)))"
   ]
  },
  {
   "cell_type": "markdown",
   "metadata": {},
   "source": [
    "**What can we see from these results?**\n",
    "\n",
    "- If an attacker queries the database for sum many times before Oski is added to the database, then queries the database many times after he is included, 90% of the results will not overlap at all.  \n",
    "\n",
    "- Recall at 90% the sample confidence interval without Oski was (approximately):\n",
    "[118, 170]\n",
    "\n",
    "- Recall at 90% the sample confidence interval with Oski was (approximately):\n",
    "[166,217]\n",
    "\n",
    "- With enough querying an attacker is going to be able to convince himself that a large, salmon devouring bear has been added, most likely our famous Oski.\n",
    "\n",
    "- Oski's privacy, his balding fur, is at risk here.  Even with $\\epsilon$ = 1.\n",
    "\n",
    "**What can be done to make this aggregation query, sum, more differentially private?**\n",
    "\n",
    "Notice we set the \"sensitivity\" of the query as the difference between the maximum and minimum value in the database without Oski in it.  THe sensitivity was set based on a reasonably homogenous population of bears.  So when we introduced an outlier, Oski, the sensitivity parameter was not set high enough to protect him.\n",
    "\n",
    "**Set the sensitivity to protect an outlier!**\n",
    "\n",
    "The sensitivity of a sum query is the maximum difference between the output of the query with or without any record in the database.  But in most practical use cases this difference must be estimated, guessed based on practical knowledge of a situation. In the case of our bears, to set the sensitivity to protect Oski or any voracious bear, we estimate that the maximum number of salmon any bear could catch and eat in a day is 50 salmon (just a guess).  Further a bear may begin to starve if it eats fewere than 10 salmon.  Thus, the difference between the sum with any new bear added to a database is no more than 50 and no less than 10.  Thus the sensitivity of the sum query in this situation is 40 fish, or 40.  \n",
    "\n",
    "**Re-run the sum query with sensitivity = $40$.**\n",
    "\n",
    "Simply using the minimum and the maximum of the database without Oski set senstivity to 8 fish. Very different results are seen if we set the senstivity at our \"user-defined\" maximums and minimums.\n"
   ]
  },
  {
   "cell_type": "code",
   "execution_count": 215,
   "metadata": {},
   "outputs": [
    {
     "data": {
      "text/plain": [
       "<matplotlib.collections.PolyCollection at 0x1a1fba9bd0>"
      ]
     },
     "execution_count": 215,
     "metadata": {},
     "output_type": "execute_result"
    },
    {
     "data": {
      "image/png": "[encoded data removed]",
      "text/plain": [
       "<Figure size 432x288 with 1 Axes>"
      ]
     },
     "metadata": {
      "needs_background": "light"
     },
     "output_type": "display_data"
    }
   ],
   "source": [
    "epsilon = 1\n",
    "u = 60\n",
    "l = 8\n",
    "sensitivity = abs(u-l)\n",
    "col = baldingBears_no_Oski['Salmon']\n",
    "\n",
    "noisySums = []\n",
    "for i in range(10000):\n",
    "    noisySum = ANON_SUM(col, epsilon, sensitivity)  \n",
    "    noisySums.append(noisySum)\n",
    "    \n",
    "a = np.array(noisySums)\n",
    "p1 = np.percentile(a, 90) \n",
    "p2 = np.percentile(a, 10)  \n",
    "binBoundaries = np.linspace(-50,400,100)  \n",
    "height, bins, patches = plt.hist(noisySums, alpha=0.8, bins = binBoundaries, color = 'm')\n",
    "plt.fill_betweenx([0, height.max()], p2, p1, color='k', alpha=0.3) "
   ]
  },
  {
   "cell_type": "code",
   "execution_count": 219,
   "metadata": {},
   "outputs": [
    {
     "data": {
      "text/markdown": [
       "Notice with these parameter settings, 90% of the observations fall inside of the    interval 29.8 and 357.27!"
      ],
      "text/plain": [
       "<IPython.core.display.Markdown object>"
      ]
     },
     "execution_count": 219,
     "metadata": {},
     "output_type": "execute_result"
    }
   ],
   "source": [
    "md(\"Notice with these parameter settings, 90% of the observations fall inside of the \\\n",
    "   interval {} and {}!\".format(round(p2,2),round(p1,2)))"
   ]
  },
  {
   "cell_type": "code",
   "execution_count": 220,
   "metadata": {},
   "outputs": [
    {
     "data": {
      "text/plain": [
       "<matplotlib.collections.PolyCollection at 0x1a2044f4d0>"
      ]
     },
     "execution_count": 220,
     "metadata": {},
     "output_type": "execute_result"
    },
    {
     "data": {
      "image/png": "[encoded data removed]",
      "text/plain": [
       "<Figure size 432x288 with 1 Axes>"
      ]
     },
     "metadata": {
      "needs_background": "light"
     },
     "output_type": "display_data"
    }
   ],
   "source": [
    "epsilon = 1\n",
    "u = 60\n",
    "l = 8\n",
    "sensitivity = abs(u-l)\n",
    "col = baldingBears['Salmon']\n",
    "\n",
    "noisySums = []\n",
    "for i in range(10000):\n",
    "    noisySum = ANON_SUM(col, epsilon, sensitivity)  \n",
    "    noisySums.append(noisySum)\n",
    "    \n",
    "a = np.array(noisySums)\n",
    "p1 = np.percentile(a, 90) \n",
    "p2 = np.percentile(a, 10)  \n",
    "binBoundaries = np.linspace(-50,400,100)  \n",
    "height, bins, patches = plt.hist(noisySums, alpha=0.8, bins = binBoundaries, color = 'm')\n",
    "plt.fill_betweenx([0, height.max()], p2, p1, color='k', alpha=0.3) "
   ]
  },
  {
   "cell_type": "code",
   "execution_count": 221,
   "metadata": {},
   "outputs": [
    {
     "data": {
      "text/markdown": [
       "Notice with these parameter settings, 90% of the observations fall inside of the    interval 25.86 and 360.03!"
      ],
      "text/plain": [
       "<IPython.core.display.Markdown object>"
      ]
     },
     "execution_count": 221,
     "metadata": {},
     "output_type": "execute_result"
    }
   ],
   "source": [
    "md(\"Notice with these parameter settings, 90% of the observations fall inside of the \\\n",
    "   interval {} and {}!\".format(round(p2,2),round(p1,2)))"
   ]
  },
  {
   "cell_type": "markdown",
   "metadata": {},
   "source": [
    "**What did we learn from this?**\n",
    "\n",
    "- If an attacker queries the database for sum many times before Oski is added to the database, then queries the database many times after he is included, 90% of the results will not overlap at all.  \n",
    "\n",
    "- Recall at 90% the sample confidence interval without Oski was (approximately):\n",
    "[30, 358]\n",
    "\n",
    "- Recall at 90% the sample confidence interval with Oski was (approximately):\n",
    "[26, 360]\n",
    "\n",
    "- With very high probability, an attacker is not going to be able discern that Oski has been added to the database\n",
    "\n",
    "- Here the Laplace Mechanism uses the sensitivity parameter to protect Oski's membership in the database!\n",
    "\n",
    "- But there is a significant loss of utility!\n",
    "\n",
    "- Low $\\epsilon$ and high $\\Delta$ are protecting outliers to a very large degree, but rendering the results far less useful!\n",
    "\n",
    "- To create the right balance of privacy and utility, increase $\\epsilon$ and/or decrease the $\\Delta$ until the acceptable levels of privacy and utility for a particular use case. "
   ]
  },
  {
   "cell_type": "markdown",
   "metadata": {},
   "source": [
    "### 5. Exploring the Average Query!"
   ]
  },
  {
   "cell_type": "markdown",
   "metadata": {},
   "source": [
    "The results for adjusting parameters to make queries that ask for the average or median of a dataset very similar.  In this section we present code to allow you to experiment in this section.  The primary difference between **sum** and **average** differentially private queries is in setting the senstivity parameter.  For **sum** there is a higher potential for information leakage so the sensitivity parameter needs to be greater if it is to protect outliers such as Oski.  Check it out!"
   ]
  },
  {
   "cell_type": "code",
   "execution_count": 52,
   "metadata": {},
   "outputs": [],
   "source": [
    "def ANON_AVG_SIMPLE(col, epsilon, sensitivity):\n",
    "    noisySum = ANON_SUM(col, epsilon, sensitivity)\n",
    "    noisyCount = ANON_COUNT(col, epsilon, 1)\n",
    "    return noisySum/noisyCount"
   ]
  },
  {
   "cell_type": "code",
   "execution_count": 53,
   "metadata": {},
   "outputs": [],
   "source": [
    "def ANON_AVG_CLAMPING(col, epsilon, u, l):\n",
    "    trueSum = np.sum(col) \n",
    "    trueCount = np.shape(col)[0] \n",
    "    sensitivity = u-l\n",
    "    a = laplaceMechanism(trueSum, epsilon, sensitivity)/trueCount\n",
    "    if a <= l:\n",
    "        return l\n",
    "    else:\n",
    "        if a >= u:\n",
    "            return u\n",
    "        else: \n",
    "            return a"
   ]
  },
  {
   "cell_type": "code",
   "execution_count": 239,
   "metadata": {},
   "outputs": [
    {
     "data": {
      "text/plain": [
       "<matplotlib.collections.PolyCollection at 0x1a21a63bd0>"
      ]
     },
     "execution_count": 239,
     "metadata": {},
     "output_type": "execute_result"
    },
    {
     "data": {
      "image/png": "[encoded data removed]",
      "text/plain": [
       "<Figure size 432x288 with 1 Axes>"
      ]
     },
     "metadata": {
      "needs_background": "light"
     },
     "output_type": "display_data"
    }
   ],
   "source": [
    "# Low epsilon, low sensitivity, no Oski\n",
    "epsilon = 4\n",
    "u = 18\n",
    "l = 10\n",
    "sensitivity = abs(u-l)\n",
    "col = baldingBears_no_Oski['Salmon']\n",
    "\n",
    "noisyAvgs = []\n",
    "for i in range(10000):\n",
    "    noisyAvg = ANON_AVG_SIMPLE(col, epsilon, sensitivity)\n",
    "    noisyAvgs.append(noisyAvg)\n",
    "\n",
    "a = np.array(noisyAvgs)\n",
    "p1 = np.percentile(a, 90) \n",
    "p2 = np.percentile(a, 10)     \n",
    "binBoundaries = np.linspace(10,22,100)\n",
    "height, bins, patches = plt.hist(noisyAvgs, alpha=0.8, bins = binBoundaries, color = 'm')\n",
    "plt.fill_betweenx([0, height.max()], p2, p1, color='k', alpha=0.3) "
   ]
  },
  {
   "cell_type": "code",
   "execution_count": 240,
   "metadata": {},
   "outputs": [
    {
     "data": {
      "text/markdown": [
       "Notice with these parameter settings, 90% of the observations fall inside of the    interval 13.11 and 15.92!"
      ],
      "text/plain": [
       "<IPython.core.display.Markdown object>"
      ]
     },
     "execution_count": 240,
     "metadata": {},
     "output_type": "execute_result"
    }
   ],
   "source": [
    "md(\"Notice with these parameter settings, 90% of the observations fall inside of the \\\n",
    "   interval {} and {}!\".format(round(p2,2),round(p1,2)))"
   ]
  },
  {
   "cell_type": "code",
   "execution_count": 241,
   "metadata": {},
   "outputs": [
    {
     "data": {
      "text/plain": [
       "<matplotlib.collections.PolyCollection at 0x1a21c9d090>"
      ]
     },
     "execution_count": 241,
     "metadata": {},
     "output_type": "execute_result"
    },
    {
     "data": {
      "image/png": "[encoded data removed]",
      "text/plain": [
       "<Figure size 432x288 with 1 Axes>"
      ]
     },
     "metadata": {
      "needs_background": "light"
     },
     "output_type": "display_data"
    }
   ],
   "source": [
    "# High epsilon, low sensitivity, Oski\n",
    "epsilon = 4\n",
    "u = 18\n",
    "l = 10\n",
    "sensitivity = abs(u-l)\n",
    "col = baldingBears['Salmon']\n",
    "\n",
    "noisyAvgs = []\n",
    "for i in range(10000):\n",
    "    noisyAvg = ANON_AVG_SIMPLE(col, epsilon, sensitivity)\n",
    "    noisyAvgs.append(noisyAvg)\n",
    "\n",
    "a = np.array(noisyAvgs)\n",
    "p1 = np.percentile(a, 90) \n",
    "p2 = np.percentile(a, 10)     \n",
    "binBoundaries = np.linspace(10,22,100)\n",
    "height, bins, patches = plt.hist(noisyAvgs, alpha=0.8, bins = binBoundaries, color = 'm')\n",
    "plt.fill_betweenx([0, height.max()], p2, p1, color='k', alpha=0.3)"
   ]
  },
  {
   "cell_type": "code",
   "execution_count": 243,
   "metadata": {},
   "outputs": [
    {
     "data": {
      "text/markdown": [
       "Notice with these parameter settings, 90% of the observations fall inside of the    interval 16.08 and 18.98!"
      ],
      "text/plain": [
       "<IPython.core.display.Markdown object>"
      ]
     },
     "execution_count": 243,
     "metadata": {},
     "output_type": "execute_result"
    }
   ],
   "source": [
    "md(\"Notice with these parameter settings, 90% of the observations fall inside of the \\\n",
    "   interval {} and {}!\".format(round(p2,2),round(p1,2)))"
   ]
  },
  {
   "cell_type": "markdown",
   "metadata": {},
   "source": [
    "**What did we learn from this?**\n",
    "\n",
    "- If an attacker queries the database for **average** many times before Oski is added to the database, then queries the database many times after he is included, 90% of the results will not overlap at all!! \n",
    "\n",
    "- Recall at 90% the sample confidence interval without Oski was (approximately):\n",
    "[13, 16]\n",
    "\n",
    "- Recall at 90% the sample confidence interval with Oski was (approximately):\n",
    "[16, 19]\n",
    "\n",
    "- With very high probability, an attacker is not going to be able discern that Oski has been added to the database, using the average query\n",
    "\n",
    "- Clearly, less privacy leakage, lower $\\epsilon$ is required\n"
   ]
  },
  {
   "cell_type": "code",
   "execution_count": 72,
   "metadata": {},
   "outputs": [
    {
     "data": {
      "text/plain": [
       "<matplotlib.collections.PolyCollection at 0x1a21afca90>"
      ]
     },
     "execution_count": 72,
     "metadata": {},
     "output_type": "execute_result"
    },
    {
     "data": {
      "image/png": "[encoded data removed]",
      "text/plain": [
       "<Figure size 432x288 with 1 Axes>"
      ]
     },
     "metadata": {
      "needs_background": "light"
     },
     "output_type": "display_data"
    }
   ],
   "source": [
    "# Lower epsilon, higher sensitivity, no Oski\n",
    "epsilon = 1.9\n",
    "u = 25\n",
    "l = 10\n",
    "sensitivity = abs(u-l)\n",
    "col = baldingBears_no_Oski['Salmon']\n",
    "\n",
    "noisyAvgs = []\n",
    "for i in range(10000):\n",
    "    noisyAvg = ANON_AVG_SIMPLE(col, epsilon, sensitivity)\n",
    "    noisyAvgs.append(noisyAvg)\n",
    "\n",
    "a = np.array(noisyAvgs)\n",
    "p1 = np.percentile(a, 90) \n",
    "p2 = np.percentile(a, 10)     \n",
    "binBoundaries = np.linspace(5,25,100)\n",
    "height, bins, patches = plt.hist(noisyAvgs, alpha=0.8, bins = binBoundaries, color = 'm')\n",
    "plt.fill_betweenx([0, height.max()], p2, p1, color='k', alpha=0.3)\n"
   ]
  },
  {
   "cell_type": "code",
   "execution_count": 73,
   "metadata": {},
   "outputs": [
    {
     "data": {
      "text/markdown": [
       "Notice with these parameter settings, 90% of the observations fall inside of the    interval 11.07 and 18.67!"
      ],
      "text/plain": [
       "<IPython.core.display.Markdown object>"
      ]
     },
     "execution_count": 73,
     "metadata": {},
     "output_type": "execute_result"
    }
   ],
   "source": [
    "md(\"Notice with these parameter settings, 90% of the observations fall inside of the \\\n",
    "   interval {} and {}!\".format(round(p2,2),round(p1,2)))"
   ]
  },
  {
   "cell_type": "code",
   "execution_count": 74,
   "metadata": {},
   "outputs": [
    {
     "data": {
      "text/plain": [
       "<matplotlib.collections.PolyCollection at 0x1a21afcdd0>"
      ]
     },
     "execution_count": 74,
     "metadata": {},
     "output_type": "execute_result"
    },
    {
     "data": {
      "image/png": "[encoded data removed]",
      "text/plain": [
       "<Figure size 432x288 with 1 Axes>"
      ]
     },
     "metadata": {
      "needs_background": "light"
     },
     "output_type": "display_data"
    }
   ],
   "source": [
    "# Lower epsilon, higher sensitivity, Oski\n",
    "col = baldingBears['Salmon']\n",
    "noisyAvgs = []\n",
    "for i in range(10000):\n",
    "    noisyAvg = ANON_AVG_SIMPLE(col, epsilon, sensitivity)\n",
    "    noisyAvgs.append(noisyAvg)\n",
    "\n",
    "a = np.array(noisyAvgs)\n",
    "p1 = np.percentile(a, 90) \n",
    "p2 = np.percentile(a, 10)     \n",
    "binBoundaries = np.linspace(5,25,100)\n",
    "height, bins, patches = plt.hist(noisyAvgs, alpha=0.8, bins = binBoundaries, color = 'm')\n",
    "plt.fill_betweenx([0, height.max()], p2, p1, color='k', alpha=0.3)"
   ]
  },
  {
   "cell_type": "code",
   "execution_count": 75,
   "metadata": {},
   "outputs": [
    {
     "data": {
      "text/markdown": [
       "Notice with these parameter settings, 90% of the observations fall inside of the    interval 14.11 and 21.73!"
      ],
      "text/plain": [
       "<IPython.core.display.Markdown object>"
      ]
     },
     "execution_count": 75,
     "metadata": {},
     "output_type": "execute_result"
    }
   ],
   "source": [
    "md(\"Notice with these parameter settings, 90% of the observations fall inside of the \\\n",
    "   interval {} and {}!\".format(round(p2,2),round(p1,2)))"
   ]
  },
  {
   "cell_type": "markdown",
   "metadata": {},
   "source": [
    "**What did we learn from this?**\n",
    "\n",
    "- $\\epsilon$ in the range of 1.5 to 2.0, sensitivity $\\Delta$ in the range of 10 to 15 still provides privacy with better utility\n",
    "\n",
    "- Tinker with the parameters yourself and look at the results.\n",
    "\n",
    "- Do you think $\\epsilon = 1$ is too much privacy and too little utility?\n",
    "\n",
    "- What do you think are the optimial parameters here?"
   ]
  },
  {
   "cell_type": "markdown",
   "metadata": {},
   "source": [
    "### 6. Conclusions\n",
    "\n",
    "Congratulations for wending your way through some of the aspects of a Laplacian Differential Privacy Mechanism! We hope you have gained some insight into how this mechanism works and you are now inspired to learn more!\n",
    "\n",
    "When you find yourself confused, struggling to remember, think back to Oski and his cohort of balding brown bear friends.\n",
    "\n",
    "Some key take aways include the following.\n",
    "\n",
    "- Laplacian mechanisms inject privacy crafted noise into query responses\n",
    "\n",
    "- This crafted noise protects members of a database from an increase in confidence that any given individual will be identifid as a member in the database\n",
    "\n",
    "- The Laplacian mechanism requires fine tuning of $\\epsilon$ for **count** and both $\\epsilon$ and $\\Delta$ for **sum** and **average** to manage the privacy - utility trade-off for specific use cases.\n",
    "\n",
    "- The sensitivity parameter should be set to protect **potential** members values, not just **existing** member values!\n",
    "\n",
    "- The sensitivity parameter should be set to protect potential outliers, or underrepresented populations, those that may deviate from the more homogenous population that tends to be close to the \"norm\". \n",
    "\n",
    "- Differentail Privacy is very cool!"
   ]
  }
 ],
 "metadata": {
  "kernelspec": {
   "display_name": "Python 3",
   "language": "python",
   "name": "python3"
  },
  "language_info": {
   "codemirror_mode": {
    "name": "ipython",
    "version": 3
   },
   "file_extension": ".py",
   "mimetype": "text/x-python",
   "name": "python",
   "nbconvert_exporter": "python",
   "pygments_lexer": "ipython3",
   "version": "3.7.4"
  }
 },
 "nbformat": 4,
 "nbformat_minor": 4
}
