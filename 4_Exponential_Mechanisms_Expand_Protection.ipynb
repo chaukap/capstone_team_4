{
 "cells": [
  {
   "cell_type": "markdown",
   "metadata": {},
   "source": [
    "### 1. Introduction to Exponential Mechanisms"
   ]
  },
  {
   "cell_type": "markdown",
   "metadata": {},
   "source": [
    "#### 1.1 Exponential Mechanisms Broaden the Range of Data Types for Queries\n",
    "\n",
    "What if our database of our brown bear's characteristics and activities contains information that is not numerical?  Exponential mechanisms allow users can query non-numerical data types.  Recall that users of the database may be studying why our beloved brown bears are going bald. What if we had information on our brown bears habits or lifestyle choices other than the number of salmon they eat in a day? What if we had qualitive data on their social habits and wanted to understand if these traits are affecting their fur loss?"
   ]
  },
  {
   "cell_type": "markdown",
   "metadata": {},
   "source": [
    "#### 1.2 Exponential Mechanisms Only Return Answers That Are Actually Possible Answers"
   ]
  },
  {
   "cell_type": "markdown",
   "metadata": {},
   "source": [
    "#### 1.3 Exponential Mechanisms Can Incorporate Utility Functions That Tailor Differentially Private Queries \n",
    "\n",
    "Users can query based on non-numerical criteria such as \"best\" according to a \"utility\" function rather than numerical criteria such as min, max, sum, count, average\n",
    "    - What if we have additional information the suggests what the optimal eating habits for the brown bear?\n",
    "    "
   ]
  },
  {
   "cell_type": "markdown",
   "metadata": {},
   "source": [
    "### 2. The Exponential Mechanism and Our Balding Bears: A Simple Example"
   ]
  },
  {
   "cell_type": "markdown",
   "metadata": {},
   "source": [
    "#### 2.1 Are Brown Bears Social?\n",
    "\n",
    "Brown bears have different ranges of social behavior.  What if the degree of social behavior affects their propensity to becoming bald?  Consider a classification of the following for our cadre of brown bears. Assume these qualitative characterizations have been observed for all of our brown bears.\n",
    "\n",
    "- asocial\n",
    "- somewhat social\n",
    "- very social\n",
    "- extremely social\n",
    "\n",
    "What if we want to ask the question \"What is the most frequent social characteristic of our brown bears?\"\n",
    "\n",
    "Consider the following augmented version of our brown bear database."
   ]
  },
  {
   "cell_type": "code",
   "execution_count": 175,
   "metadata": {},
   "outputs": [],
   "source": [
    "import numpy as np\n",
    "import pandas as pd\n",
    "import matplotlib.pyplot as plt\n",
    "from scipy import stats\n",
    "import collections"
   ]
  },
  {
   "cell_type": "code",
   "execution_count": 60,
   "metadata": {},
   "outputs": [
    {
     "data": {
      "text/html": [
       "<div>\n",
       "<style scoped>\n",
       "    .dataframe tbody tr th:only-of-type {\n",
       "        vertical-align: middle;\n",
       "    }\n",
       "\n",
       "    .dataframe tbody tr th {\n",
       "        vertical-align: top;\n",
       "    }\n",
       "\n",
       "    .dataframe thead th {\n",
       "        text-align: right;\n",
       "    }\n",
       "</style>\n",
       "<table border=\"1\" class=\"dataframe\">\n",
       "  <thead>\n",
       "    <tr style=\"text-align: right;\">\n",
       "      <th></th>\n",
       "      <th>Bears</th>\n",
       "      <th>School</th>\n",
       "      <th>Salmon</th>\n",
       "      <th>Social Behavior</th>\n",
       "    </tr>\n",
       "  </thead>\n",
       "  <tbody>\n",
       "    <tr>\n",
       "      <td>1</td>\n",
       "      <td>Avalanche</td>\n",
       "      <td>Kutztown</td>\n",
       "      <td>10</td>\n",
       "      <td>somewhat social</td>\n",
       "    </tr>\n",
       "    <tr>\n",
       "      <td>2</td>\n",
       "      <td>Bananas</td>\n",
       "      <td>U of Maine</td>\n",
       "      <td>13</td>\n",
       "      <td>very social</td>\n",
       "    </tr>\n",
       "    <tr>\n",
       "      <td>3</td>\n",
       "      <td>Benny</td>\n",
       "      <td>Morgan State</td>\n",
       "      <td>14</td>\n",
       "      <td>somewhat social</td>\n",
       "    </tr>\n",
       "    <tr>\n",
       "      <td>4</td>\n",
       "      <td>Boomer</td>\n",
       "      <td>Lake Forest</td>\n",
       "      <td>12</td>\n",
       "      <td>somewhat social</td>\n",
       "    </tr>\n",
       "    <tr>\n",
       "      <td>5</td>\n",
       "      <td>Grizz</td>\n",
       "      <td>Oakland</td>\n",
       "      <td>18</td>\n",
       "      <td>asocial</td>\n",
       "    </tr>\n",
       "    <tr>\n",
       "      <td>6</td>\n",
       "      <td>Kody</td>\n",
       "      <td>Cascadia</td>\n",
       "      <td>14</td>\n",
       "      <td>very social</td>\n",
       "    </tr>\n",
       "    <tr>\n",
       "      <td>7</td>\n",
       "      <td>Monte</td>\n",
       "      <td>U Montana</td>\n",
       "      <td>18</td>\n",
       "      <td>somewhat social</td>\n",
       "    </tr>\n",
       "    <tr>\n",
       "      <td>8</td>\n",
       "      <td>Nanook</td>\n",
       "      <td>Bowdoin</td>\n",
       "      <td>17</td>\n",
       "      <td>asocial</td>\n",
       "    </tr>\n",
       "    <tr>\n",
       "      <td>9</td>\n",
       "      <td>Ranger</td>\n",
       "      <td>Drew</td>\n",
       "      <td>16</td>\n",
       "      <td>very social</td>\n",
       "    </tr>\n",
       "    <tr>\n",
       "      <td>10</td>\n",
       "      <td>Scott Highlander</td>\n",
       "      <td>UC Riverside</td>\n",
       "      <td>12</td>\n",
       "      <td>somewhat social</td>\n",
       "    </tr>\n",
       "    <tr>\n",
       "      <td>11</td>\n",
       "      <td>Oski</td>\n",
       "      <td>Berkeley</td>\n",
       "      <td>48</td>\n",
       "      <td>extremely social</td>\n",
       "    </tr>\n",
       "  </tbody>\n",
       "</table>\n",
       "</div>"
      ],
      "text/plain": [
       "               Bears        School  Salmon   Social Behavior\n",
       "1          Avalanche      Kutztown      10   somewhat social\n",
       "2            Bananas    U of Maine      13       very social\n",
       "3              Benny  Morgan State      14   somewhat social\n",
       "4             Boomer   Lake Forest      12   somewhat social\n",
       "5              Grizz       Oakland      18           asocial\n",
       "6               Kody      Cascadia      14       very social\n",
       "7              Monte     U Montana      18   somewhat social\n",
       "8             Nanook       Bowdoin      17           asocial\n",
       "9             Ranger          Drew      16       very social\n",
       "10  Scott Highlander  UC Riverside      12   somewhat social\n",
       "11              Oski      Berkeley      48  extremely social"
      ]
     },
     "execution_count": 60,
     "metadata": {},
     "output_type": "execute_result"
    }
   ],
   "source": [
    "#Create a dataframe of the balding bears\n",
    "baldingBears = pd.DataFrame({'Bears': ['Avalanche', 'Bananas', 'Benny', 'Boomer', 'Grizz', 'Kody', 'Monte', 'Nanook', 'Ranger', 'Scott Highlander', \n",
    "                                       'Oski'],'School': ['Kutztown', 'U of Maine', 'Morgan State', 'Lake Forest', 'Oakland', 'Cascadia', 'U Montana', \n",
    "                                       'Bowdoin', 'Drew', 'UC Riverside','Berkeley'], 'Salmon':[10, 13, 14, 12, 18, 14, 18, 17, 16, 12, 48], \n",
    "                                        'Social Behavior':['somewhat social', 'very social', 'somewhat social', 'somewhat social', 'asocial', \n",
    "                                                           'very social', 'somewhat social', 'asocial', 'very social', 'somewhat social', \n",
    "                                                           'extremely social']})\n",
    "# add 1 to each index\n",
    "baldingBears.index = baldingBears.index + 1\n",
    "baldingBears"
   ]
  },
  {
   "cell_type": "code",
   "execution_count": 338,
   "metadata": {},
   "outputs": [],
   "source": [
    "def score(col, option):\n",
    "    # Counts the number of occurances of \"option\" in a column of a dataframe\n",
    "    return col.value_counts()[option]\n",
    "\n",
    "def exponential(column, score, sensitivity, epsilon):\n",
    "    unique_values = column.unique()\n",
    "    scores = [score(column, unique_value) for unique_value in unique_values]\n",
    "    probabilities = [np.exp(epsilon * score / (2 * sensitivity)) for score in scores]\n",
    "    probabilities = probabilities / np.linalg.norm(probabilities, ord=1)\n",
    "    # Choose an element from all unique elements based on the probabilities\n",
    "    return np.random.choice(unique_values, 1, p=probabilities)[0]\n"
   ]
  },
  {
   "cell_type": "markdown",
   "metadata": {},
   "source": [
    "### 2.2 Exponential Mechanism Applied\n",
    "\n",
    "The Exponential Mechanism generally consists of two main components.  \n",
    "\n",
    "The **first component** is the \"scoring\" component.  The scoring component is a function which computes, for each unique instance in a column, how “good” is this instance in the database. Higher scores are better. \n",
    "\n",
    "For example, if we are trying to learn how frequent a characterisic is in a database the scoring function will simply compute the frequencies.  If a user queries the database and asks questions such as amoung our bears \"What is the most frequent social behavior?\", a naive scoring function will simply compute  the existing frequencies and assign a score to each possible characteristic.  Here this score is just the freque3ncy of occurance in the population.\n",
    "\n",
    "Under these conditions, observe the scores of Social Behavior in our Balding Bears database. Note here they are just the normalized frequencies of occurance."
   ]
  },
  {
   "cell_type": "code",
   "execution_count": 311,
   "metadata": {},
   "outputs": [
    {
     "data": {
      "text/html": [
       "<div>\n",
       "<style scoped>\n",
       "    .dataframe tbody tr th:only-of-type {\n",
       "        vertical-align: middle;\n",
       "    }\n",
       "\n",
       "    .dataframe tbody tr th {\n",
       "        vertical-align: top;\n",
       "    }\n",
       "\n",
       "    .dataframe thead th {\n",
       "        text-align: right;\n",
       "    }\n",
       "</style>\n",
       "<table border=\"1\" class=\"dataframe\">\n",
       "  <thead>\n",
       "    <tr style=\"text-align: right;\">\n",
       "      <th></th>\n",
       "      <th>Behavior</th>\n",
       "      <th>Score</th>\n",
       "    </tr>\n",
       "  </thead>\n",
       "  <tbody>\n",
       "    <tr>\n",
       "      <td>1</td>\n",
       "      <td>asocial</td>\n",
       "      <td>2</td>\n",
       "    </tr>\n",
       "    <tr>\n",
       "      <td>2</td>\n",
       "      <td>somewhat social</td>\n",
       "      <td>5</td>\n",
       "    </tr>\n",
       "    <tr>\n",
       "      <td>3</td>\n",
       "      <td>very social</td>\n",
       "      <td>3</td>\n",
       "    </tr>\n",
       "    <tr>\n",
       "      <td>4</td>\n",
       "      <td>extremely social</td>\n",
       "      <td>1</td>\n",
       "    </tr>\n",
       "  </tbody>\n",
       "</table>\n",
       "</div>"
      ],
      "text/plain": [
       "           Behavior  Score\n",
       "1           asocial      2\n",
       "2   somewhat social      5\n",
       "3       very social      3\n",
       "4  extremely social      1"
      ]
     },
     "execution_count": 311,
     "metadata": {},
     "output_type": "execute_result"
    }
   ],
   "source": [
    "scoreExample = pd.DataFrame({'Behavior': ['asocial', 'somewhat social', 'very social', 'extremely social'], \n",
    "                             'Score': [score(baldingBears['Social Behavior'], 'asocial'),\n",
    "                              score(baldingBears['Social Behavior'], 'somewhat social'), \n",
    "                              score(baldingBears['Social Behavior'], 'very social'),\n",
    "                              score(baldingBears['Social Behavior'], 'extremely social')]})\n",
    "# add 1 to each index\n",
    "scoreExample.index = scoreExample.index + 1\n",
    "scoreExample"
   ]
  },
  {
   "cell_type": "markdown",
   "metadata": {},
   "source": [
    "If the Exponential Mechanism stopped here it would not be differentially private, right?  An attacker could easily learn this fixed distributiom.  Consider the case where we know Oski is an extremely social bear. Eith a fixed \"true\" response about the frequencies, an attacker's prior belief about Oski's membership could be easily shifted to an actionable posterior as Oksi moves in to the database.\n",
    "\n",
    "So to protect Oski, the **second component** of the Exponential Mechanism perturbs the results just enough to hide Oski's membership.\n",
    "\n",
    "These scores are fed to a function in the mechanism that generates a probability function over the set of possible right answers, that behaves somewhat like the Laplace function in terms of protection.  The Exponential Mechanism chooses an answer randomly based on that probability function.\n",
    "\n",
    "Here is an example."
   ]
  },
  {
   "cell_type": "markdown",
   "metadata": {},
   "source": [
    "From the scores, for each possible answer to a query, the mechanism next generates a probability. The set of probabilties for all posible outcomes is a probability mass function.  "
   ]
  },
  {
   "cell_type": "code",
   "execution_count": 347,
   "metadata": {},
   "outputs": [
    {
     "data": {
      "text/html": [
       "<div>\n",
       "<style scoped>\n",
       "    .dataframe tbody tr th:only-of-type {\n",
       "        vertical-align: middle;\n",
       "    }\n",
       "\n",
       "    .dataframe tbody tr th {\n",
       "        vertical-align: top;\n",
       "    }\n",
       "\n",
       "    .dataframe thead th {\n",
       "        text-align: right;\n",
       "    }\n",
       "</style>\n",
       "<table border=\"1\" class=\"dataframe\">\n",
       "  <thead>\n",
       "    <tr style=\"text-align: right;\">\n",
       "      <th></th>\n",
       "      <th>Behavior</th>\n",
       "      <th>Probability</th>\n",
       "    </tr>\n",
       "  </thead>\n",
       "  <tbody>\n",
       "    <tr>\n",
       "      <td>2</td>\n",
       "      <td>somewhat social</td>\n",
       "      <td>0.579259</td>\n",
       "    </tr>\n",
       "    <tr>\n",
       "      <td>3</td>\n",
       "      <td>very social</td>\n",
       "      <td>0.213097</td>\n",
       "    </tr>\n",
       "    <tr>\n",
       "      <td>4</td>\n",
       "      <td>asocial</td>\n",
       "      <td>0.129250</td>\n",
       "    </tr>\n",
       "    <tr>\n",
       "      <td>5</td>\n",
       "      <td>extremely social</td>\n",
       "      <td>0.078394</td>\n",
       "    </tr>\n",
       "  </tbody>\n",
       "</table>\n",
       "</div>"
      ],
      "text/plain": [
       "           Behavior  Probability\n",
       "2   somewhat social     0.579259\n",
       "3       very social     0.213097\n",
       "4           asocial     0.129250\n",
       "5  extremely social     0.078394"
      ]
     },
     "execution_count": 347,
     "metadata": {},
     "output_type": "execute_result"
    }
   ],
   "source": [
    "unique_values = baldingBears['Social Behavior'].unique()\n",
    "scores = [score(baldingBears['Social Behavior'], unique_value) for unique_value in unique_values]\n",
    "epsilon = 1\n",
    "sensitivity = 1\n",
    "#Compute probabilities as a function of the scoring functiom\n",
    "probabilities = [np.exp(epsilon * score / (2 * sensitivity)) for score in scores]\n",
    "probabilities = probabilities/ np.linalg.norm(probabilities, ord =1)\n",
    "pmfExample = pd.DataFrame({'Behavior': unique_values, 'Probability': probabilities})\n",
    "pmfExample.index = scoreExample.index + 1\n",
    "pmfExample"
   ]
  },
  {
   "cell_type": "markdown",
   "metadata": {},
   "source": [
    "This table shows the probability mass function from which the Exponential Mechanism draws randomly draws its output. We now run the mechanism 10,000 times, with $\\epsilon$ = 1 and sensitivity, $\\Delta$ = 1. \n",
    "\n",
    "*Remember, these parameter settings have a lower degree of privacy ($\\epsilon$ high, $\\Delta$ low)*"
   ]
  },
  {
   "cell_type": "code",
   "execution_count": 345,
   "metadata": {},
   "outputs": [],
   "source": [
    "noisyBehaviors = []\n",
    "col = baldingBears['Social Behavior']\n",
    "epsilon = 1\n",
    "sensitivity = 1\n",
    "num_samples = 10000\n",
    "for i in range(num_samples):\n",
    "    noisyBehavior = exponential(col, score, sensitivity,epsilon)\n",
    "    noisyBehaviors.append(noisyBehavior)"
   ]
  },
  {
   "cell_type": "code",
   "execution_count": 318,
   "metadata": {},
   "outputs": [
    {
     "data": {
      "text/plain": [
       "Counter({'somewhat social': 5748,\n",
       "         'extremely social': 827,\n",
       "         'asocial': 1250,\n",
       "         'very social': 2175})"
      ]
     },
     "execution_count": 318,
     "metadata": {},
     "output_type": "execute_result"
    }
   ],
   "source": [
    "collections.Counter(noisyBehaviors)"
   ]
  },
  {
   "cell_type": "code",
   "execution_count": 319,
   "metadata": {},
   "outputs": [
    {
     "data": {
      "image/png": "[encoded data removed]",
      "text/plain": [
       "<Figure size 432x288 with 1 Axes>"
      ]
     },
     "metadata": {
      "needs_background": "light"
     },
     "output_type": "display_data"
    }
   ],
   "source": [
    "labels, values = zip(*collections.Counter(noisyBehaviors).items())\n",
    "indexes = np.arange(len(labels))\n",
    "width = .5\n",
    "plt.bar(indexes, values, width)\n",
    "plt.xticks(indexes, labels)\n",
    "plt.show()"
   ]
  },
  {
   "cell_type": "code",
   "execution_count": 320,
   "metadata": {},
   "outputs": [
    {
     "data": {
      "text/html": [
       "<div>\n",
       "<style scoped>\n",
       "    .dataframe tbody tr th:only-of-type {\n",
       "        vertical-align: middle;\n",
       "    }\n",
       "\n",
       "    .dataframe tbody tr th {\n",
       "        vertical-align: top;\n",
       "    }\n",
       "\n",
       "    .dataframe thead th {\n",
       "        text-align: right;\n",
       "    }\n",
       "</style>\n",
       "<table border=\"1\" class=\"dataframe\">\n",
       "  <thead>\n",
       "    <tr style=\"text-align: right;\">\n",
       "      <th></th>\n",
       "      <th>Behavior</th>\n",
       "      <th>Probability</th>\n",
       "    </tr>\n",
       "  </thead>\n",
       "  <tbody>\n",
       "    <tr>\n",
       "      <td>2</td>\n",
       "      <td>somewhat social</td>\n",
       "      <td>0.979307</td>\n",
       "    </tr>\n",
       "    <tr>\n",
       "      <td>3</td>\n",
       "      <td>very social</td>\n",
       "      <td>0.017937</td>\n",
       "    </tr>\n",
       "    <tr>\n",
       "      <td>4</td>\n",
       "      <td>asocial</td>\n",
       "      <td>0.002427</td>\n",
       "    </tr>\n",
       "    <tr>\n",
       "      <td>5</td>\n",
       "      <td>extremely social</td>\n",
       "      <td>0.000329</td>\n",
       "    </tr>\n",
       "  </tbody>\n",
       "</table>\n",
       "</div>"
      ],
      "text/plain": [
       "           Behavior  Probability\n",
       "2   somewhat social     0.979307\n",
       "3       very social     0.017937\n",
       "4           asocial     0.002427\n",
       "5  extremely social     0.000329"
      ]
     },
     "execution_count": 320,
     "metadata": {},
     "output_type": "execute_result"
    }
   ],
   "source": [
    "unique_values = baldingBears['Social Behavior'].unique()\n",
    "scores = [score(baldingBears['Social Behavior'], unique_value) for unique_value in unique_values]\n",
    "epsilon = 4\n",
    "sensitivity = 1\n",
    "#Compute probabilities as a function of the scoring functiom\n",
    "p = [np.exp(epsilon * score / (2 * sensitivity)) for score in scores]\n",
    "p = p/ np.linalg.norm(p, ord =1)\n",
    "pmfExample = pd.DataFrame({'Behavior': unique_values, 'Probability': p})\n",
    "pmfExample.index = scoreExample.index + 1\n",
    "pmfExample"
   ]
  },
  {
   "cell_type": "code",
   "execution_count": 348,
   "metadata": {},
   "outputs": [],
   "source": [
    "col = baldingBears['Social Behavior']\n",
    "epsilon = 4\n",
    "sensitivity = 1\n",
    "for i in range(10000):\n",
    "    noisyBehavior = exponential(col, score, sensitivity, epsilon)\n",
    "    noisyBehaviors.append(noisyBehavior)"
   ]
  },
  {
   "cell_type": "code",
   "execution_count": 349,
   "metadata": {},
   "outputs": [
    {
     "data": {
      "text/plain": [
       "Counter({'somewhat social': 25387,\n",
       "         'very social': 2459,\n",
       "         'asocial': 1334,\n",
       "         'extremely social': 820})"
      ]
     },
     "execution_count": 349,
     "metadata": {},
     "output_type": "execute_result"
    }
   ],
   "source": [
    "collections.Counter(noisyBehaviors)"
   ]
  },
  {
   "cell_type": "code",
   "execution_count": 350,
   "metadata": {},
   "outputs": [
    {
     "data": {
      "image/png": "[encoded data removed]",
      "text/plain": [
       "<Figure size 432x288 with 1 Axes>"
      ]
     },
     "metadata": {
      "needs_background": "light"
     },
     "output_type": "display_data"
    }
   ],
   "source": [
    "labels, values = zip(*collections.Counter(noisyBehaviors).items())\n",
    "indexes = np.arange(len(labels))\n",
    "width = .5\n",
    "plt.bar(indexes, values, width)\n",
    "plt.xticks(indexes, labels)\n",
    "plt.show()"
   ]
  }
 ],
 "metadata": {
  "kernelspec": {
   "display_name": "Python 3",
   "language": "python",
   "name": "python3"
  },
  "language_info": {
   "codemirror_mode": {
    "name": "ipython",
    "version": 3
   },
   "file_extension": ".py",
   "mimetype": "text/x-python",
   "name": "python",
   "nbconvert_exporter": "python",
   "pygments_lexer": "ipython3",
   "version": "3.7.4"
  }
 },
 "nbformat": 4,
 "nbformat_minor": 4
}
