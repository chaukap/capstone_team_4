{
 "cells": [
  {
   "cell_type": "markdown",
   "metadata": {},
   "source": [
    "## Think Like An Adversary, Protect Oski"
   ]
  },
  {
   "cell_type": "code",
   "execution_count": 25,
   "metadata": {},
   "outputs": [],
   "source": [
    "import numpy as np\n",
    "import pandas as pd\n",
    "import matplotlib.pyplot as plt\n",
    "from scipy import stats\n",
    "from scipy.stats import laplace\n",
    "from IPython.display import Markdown as md"
   ]
  },
  {
   "cell_type": "markdown",
   "metadata": {},
   "source": [
    "### Brown Bears, Salmon and Oski"
   ]
  },
  {
   "cell_type": "markdown",
   "metadata": {},
   "source": [
    "Suppose we are studying the impact of dietary habits of the brown bear and their implications on the loss of fur of our salmon eating friends. The database contains a list of bears, all of whom are losing their fur.  They are balding.  No self-respecting bear wants such a sensitive fact made public. Disclosure of a bear's membership in this database means breaching the privacy of the bear's senstive attribute: they are going bald.\n",
    "\n",
    "Consider the facts around the Balding Bears database.\n",
    "\n",
    "- When the salmon are running large, talented and strong brown bears can catch in excess of 30-50 salmon per day\n",
    "- Lesser talented, \"normal\" bears tend to collect and eat 10 - 20 salmon per day\n"
   ]
  },
  {
   "cell_type": "markdown",
   "metadata": {},
   "source": [
    "Suppose we have a database of ten bears, all somewhat average brown bears, who are all balding.  Initially we have 10 bears in the database.\n",
    "\n",
    "1. Avalanche (Kutztown)\n",
    "2. Bananas (U of Maine)\n",
    "3. Benny (Morgan State)\n",
    "4. Boomer (Lake Forest)\n",
    "5. Grizz (Oakland)\n",
    "6. Kody (Cascadia)\n",
    "7. Monte (U Montana)\n",
    "8. Nanook (Bowdoin)\n",
    "9. Ranger (Drew)\n",
    "10. Scott Highlander (UC Riverside)"
   ]
  },
  {
   "cell_type": "markdown",
   "metadata": {},
   "source": [
    "On a particular day, July 30, when the salmon are running the database records the following number of fish captured by this group.\n",
    "\n",
    "[10, 13, 14, 12, 18, 14, 18, 17, 16, 12]\n",
    "\n",
    "**Note: the eating habits of this entire group falls within a reasonable range of \"normal\" brown bear daily catches of 10-20 salmon per day.**"
   ]
  },
  {
   "cell_type": "markdown",
   "metadata": {},
   "source": [
    "\n",
    "It is well known fact that **Oski the Cal Bear** is a giant among bears. What if we have auxillary information about Oski?  Namely, true to his school population he is talented, competitive, clever, and innovative and ee may be able to catch **40-50** salmon a day when they are running!\n",
    "\n",
    "**What if we needed to protect the privacy of outlier bear we well, one such as Oski?**\n",
    "What if the database, in general had to protect a wider range of dietary habits of our salmon eaters? Not only is the protection important but perhaps the outliers hold the key to uncovering a cure for the balding bears?\n"
   ]
  },
  {
   "cell_type": "markdown",
   "metadata": {},
   "source": [
    "![Oski](./images/oski.png)"
   ]
  },
  {
   "cell_type": "markdown",
   "metadata": {},
   "source": [
    "Below are the numbers of the eating habits of our bears on July 30th, including an addition, our salmon catching star Oski, the Cal mascot.\n",
    "\n",
    "[10, 13, 14, 12, 18, 14, 18, 17, 16, 12, 48]"
   ]
  },
  {
   "cell_type": "code",
   "execution_count": 13,
   "metadata": {},
   "outputs": [],
   "source": [
    "#Create a dataframe of the balding bears\n",
    "baldingBears = pd.DataFrame({'Bears': ['Avalanche', 'Bananas', 'Benny', 'Boomer', 'Grizz', 'Kody', 'Monte', 'Nanook', 'Ranger', 'Scott Highlander', \n",
    "                                       'Oski'],'School': ['Kutztown', 'U of Maine', 'Morgan State', 'Lake Forest', 'Oakland', 'Cascadia', 'U Montana', \n",
    "                                       'Bowdoin', 'Drew', 'UC Riverside','Berkeley'], 'Salmon':[10, 13, 14, 12, 18, 14, 18, 17, 16, 12, 48]})\n"
   ]
  },
  {
   "cell_type": "code",
   "execution_count": 11,
   "metadata": {},
   "outputs": [
    {
     "data": {
      "text/html": [
       "<div>\n",
       "<style scoped>\n",
       "    .dataframe tbody tr th:only-of-type {\n",
       "        vertical-align: middle;\n",
       "    }\n",
       "\n",
       "    .dataframe tbody tr th {\n",
       "        vertical-align: top;\n",
       "    }\n",
       "\n",
       "    .dataframe thead th {\n",
       "        text-align: right;\n",
       "    }\n",
       "</style>\n",
       "<table border=\"1\" class=\"dataframe\">\n",
       "  <thead>\n",
       "    <tr style=\"text-align: right;\">\n",
       "      <th></th>\n",
       "      <th>Bears</th>\n",
       "      <th>School</th>\n",
       "      <th>Salmon</th>\n",
       "    </tr>\n",
       "  </thead>\n",
       "  <tbody>\n",
       "    <tr>\n",
       "      <td>1</td>\n",
       "      <td>Avalanche</td>\n",
       "      <td>Kutztown</td>\n",
       "      <td>10</td>\n",
       "    </tr>\n",
       "    <tr>\n",
       "      <td>2</td>\n",
       "      <td>Bananas</td>\n",
       "      <td>U of Maine</td>\n",
       "      <td>13</td>\n",
       "    </tr>\n",
       "    <tr>\n",
       "      <td>3</td>\n",
       "      <td>Benny</td>\n",
       "      <td>Morgan State</td>\n",
       "      <td>14</td>\n",
       "    </tr>\n",
       "    <tr>\n",
       "      <td>4</td>\n",
       "      <td>Boomer</td>\n",
       "      <td>Lake Forest</td>\n",
       "      <td>12</td>\n",
       "    </tr>\n",
       "    <tr>\n",
       "      <td>5</td>\n",
       "      <td>Grizz</td>\n",
       "      <td>Oakland</td>\n",
       "      <td>18</td>\n",
       "    </tr>\n",
       "    <tr>\n",
       "      <td>6</td>\n",
       "      <td>Kody</td>\n",
       "      <td>Cascadia</td>\n",
       "      <td>14</td>\n",
       "    </tr>\n",
       "    <tr>\n",
       "      <td>7</td>\n",
       "      <td>Monte</td>\n",
       "      <td>U Montana</td>\n",
       "      <td>18</td>\n",
       "    </tr>\n",
       "    <tr>\n",
       "      <td>8</td>\n",
       "      <td>Nanook</td>\n",
       "      <td>Bowdoin</td>\n",
       "      <td>17</td>\n",
       "    </tr>\n",
       "    <tr>\n",
       "      <td>9</td>\n",
       "      <td>Ranger</td>\n",
       "      <td>Drew</td>\n",
       "      <td>16</td>\n",
       "    </tr>\n",
       "    <tr>\n",
       "      <td>10</td>\n",
       "      <td>Scott Highlander</td>\n",
       "      <td>UC Riverside</td>\n",
       "      <td>12</td>\n",
       "    </tr>\n",
       "    <tr>\n",
       "      <td>11</td>\n",
       "      <td>Oski</td>\n",
       "      <td>Berkeley</td>\n",
       "      <td>48</td>\n",
       "    </tr>\n",
       "  </tbody>\n",
       "</table>\n",
       "</div>"
      ],
      "text/plain": [
       "               Bears        School  Salmon\n",
       "1          Avalanche      Kutztown      10\n",
       "2            Bananas    U of Maine      13\n",
       "3              Benny  Morgan State      14\n",
       "4             Boomer   Lake Forest      12\n",
       "5              Grizz       Oakland      18\n",
       "6               Kody      Cascadia      14\n",
       "7              Monte     U Montana      18\n",
       "8             Nanook       Bowdoin      17\n",
       "9             Ranger          Drew      16\n",
       "10  Scott Highlander  UC Riverside      12\n",
       "11              Oski      Berkeley      48"
      ]
     },
     "execution_count": 11,
     "metadata": {},
     "output_type": "execute_result"
    }
   ],
   "source": [
    "# add 1 to each index\n",
    "baldingBears.index = baldingBears.index + 1\n",
    "baldingBears"
   ]
  },
  {
   "cell_type": "markdown",
   "metadata": {},
   "source": [
    "**Let's assume we have a rival to our Cal Bear that wants to bring Oski down by exposing his balding woes.**  Recall that the true sum of the total salmon eaten in the database without Oski in it is $144$ and when we add him in the true sum jumps to $192$.  Since these are \"adjacent databases\", namely databases that differ by $1$ record, the substantial jump in the sum, couple with prior knowledge that Oski is a very big eater, an outlier, a jump would be a signal to an attacker, statistically speaking that could expose Oski's membership."
   ]
  },
  {
   "cell_type": "code",
   "execution_count": 14,
   "metadata": {},
   "outputs": [
    {
     "data": {
      "text/html": [
       "<div>\n",
       "<style scoped>\n",
       "    .dataframe tbody tr th:only-of-type {\n",
       "        vertical-align: middle;\n",
       "    }\n",
       "\n",
       "    .dataframe tbody tr th {\n",
       "        vertical-align: top;\n",
       "    }\n",
       "\n",
       "    .dataframe thead th {\n",
       "        text-align: right;\n",
       "    }\n",
       "</style>\n",
       "<table border=\"1\" class=\"dataframe\">\n",
       "  <thead>\n",
       "    <tr style=\"text-align: right;\">\n",
       "      <th></th>\n",
       "      <th>Bears</th>\n",
       "      <th>School</th>\n",
       "      <th>Salmon</th>\n",
       "    </tr>\n",
       "  </thead>\n",
       "  <tbody>\n",
       "    <tr>\n",
       "      <td>0</td>\n",
       "      <td>Avalanche</td>\n",
       "      <td>Kutztown</td>\n",
       "      <td>10</td>\n",
       "    </tr>\n",
       "    <tr>\n",
       "      <td>1</td>\n",
       "      <td>Bananas</td>\n",
       "      <td>U of Maine</td>\n",
       "      <td>13</td>\n",
       "    </tr>\n",
       "    <tr>\n",
       "      <td>2</td>\n",
       "      <td>Benny</td>\n",
       "      <td>Morgan State</td>\n",
       "      <td>14</td>\n",
       "    </tr>\n",
       "    <tr>\n",
       "      <td>3</td>\n",
       "      <td>Boomer</td>\n",
       "      <td>Lake Forest</td>\n",
       "      <td>12</td>\n",
       "    </tr>\n",
       "    <tr>\n",
       "      <td>4</td>\n",
       "      <td>Grizz</td>\n",
       "      <td>Oakland</td>\n",
       "      <td>18</td>\n",
       "    </tr>\n",
       "    <tr>\n",
       "      <td>5</td>\n",
       "      <td>Kody</td>\n",
       "      <td>Cascadia</td>\n",
       "      <td>14</td>\n",
       "    </tr>\n",
       "    <tr>\n",
       "      <td>6</td>\n",
       "      <td>Monte</td>\n",
       "      <td>U Montana</td>\n",
       "      <td>18</td>\n",
       "    </tr>\n",
       "    <tr>\n",
       "      <td>7</td>\n",
       "      <td>Nanook</td>\n",
       "      <td>Bowdoin</td>\n",
       "      <td>17</td>\n",
       "    </tr>\n",
       "    <tr>\n",
       "      <td>8</td>\n",
       "      <td>Ranger</td>\n",
       "      <td>Drew</td>\n",
       "      <td>16</td>\n",
       "    </tr>\n",
       "    <tr>\n",
       "      <td>9</td>\n",
       "      <td>Scott Highlander</td>\n",
       "      <td>UC Riverside</td>\n",
       "      <td>12</td>\n",
       "    </tr>\n",
       "  </tbody>\n",
       "</table>\n",
       "</div>"
      ],
      "text/plain": [
       "              Bears        School  Salmon\n",
       "0         Avalanche      Kutztown      10\n",
       "1           Bananas    U of Maine      13\n",
       "2             Benny  Morgan State      14\n",
       "3            Boomer   Lake Forest      12\n",
       "4             Grizz       Oakland      18\n",
       "5              Kody      Cascadia      14\n",
       "6             Monte     U Montana      18\n",
       "7            Nanook       Bowdoin      17\n",
       "8            Ranger          Drew      16\n",
       "9  Scott Highlander  UC Riverside      12"
      ]
     },
     "execution_count": 14,
     "metadata": {},
     "output_type": "execute_result"
    }
   ],
   "source": [
    "#Create a dataframe of the balding bears\n",
    "baldingBears_no_Oski = pd.DataFrame({'Bears': ['Avalanche', 'Bananas', 'Benny', 'Boomer', 'Grizz', 'Kody', 'Monte', 'Nanook', 'Ranger', 'Scott Highlander'],\n",
    "                                    'School': ['Kutztown', 'U of Maine', 'Morgan State', 'Lake Forest', 'Oakland', 'Cascadia', 'U Montana', \n",
    "                                       'Bowdoin', 'Drew', 'UC Riverside'], \n",
    "                                    'Salmon':[10, 13, 14, 12, 18, 14, 18, 17, 16, 12]})\n",
    "baldingBears_no_Oski"
   ]
  },
  {
   "cell_type": "markdown",
   "metadata": {},
   "source": [
    "#### 3.1 Threat Framework\n",
    "\n",
    "Suppose we have an attacker who has heard rumors and observed fur left behind by Oski that leads him believe that Oski has a 50-50 chance of becoming bald. This is **attacker's prior** belief, is that it is equally likely that Oski is in the database and not in the database.\n",
    "\n",
    "Just a few probability definitions, we promise.\n",
    "\n",
    "Let:\n",
    "\n",
    "- **Oski** be the event that Oski is in the database\n",
    "- **noOski** be the event that Oksi is not in the database\n",
    "\n",
    "The Odd's Ratio here is:\n",
    "\n",
    "$$\\frac{P(noOksi)}{P(Oski)}$$\n",
    "\n",
    "- This ratio is known in probability as the **\"Odds Ratio\"**.\n",
    "- The **Prior Odd's Ratio** is the Odd's Ratio before the database query outcomes are observed.\n",
    "- The **Posterior Odd's Ratio** is the Odd's Ratio after, or conditioned on the observing the outcomes. \n",
    "\n",
    "While we won't show you the derivation here, but it can be proven mathematically that the **\"Prior Odds Ratio\"** multiplied another ratio, the  **\"Likelihood Ratio\"** is equivalent to the Odds Ratio after observing the statistical behavior of the outcome for many runs of a query approximates, namely, the **\"Posterier Odds Ratio\"**.\n",
    "\n",
    "**How does this help explain our threat model?**\n",
    "\n",
    "In our threat model, an attacker has a preconditioned notion of Oski's odds of being a balding bear. Here we ask ourselves \n",
    "\n",
    "\"What would happen if an attacker were able to observe the output of many, many runs of a particular query? These results would present an approximation of the \"Likelihood Ratio\".  Let's say the Likelihood Ratio moves the attacker from his initial belief to a stronger belief that Oski is more likely to be in the database.  This is the Posterior Odd's Ratio. Practically speaking, at some point if he gains enough information, those post observation odds for the attacker will breach a practical threshold which, in his mind, is a decision point.  At that decision point, (when the odds are high enough), the attacker will conclude Oksi is in the database. Oski's privacy will be violated.\n",
    "\n",
    "In our example, let's assume that if the attacker's Odd's Ratio moves to greater than 2.  In statistical vernacular, the Attacker has a Posterior Odds Ratio > 2, he concludes that Oksi is in the database and for this attacker he is willing to tell the world of his findings and Oski's privacy will be breached.\n",
    "\n",
    " "
   ]
  },
  {
   "cell_type": "markdown",
   "metadata": {},
   "source": [
    "### 3.2 Simple Example With Oski and an Attacker\n",
    "\n",
    "Let's illustrate our threat framework with a simple example. Here are the basic components.\n",
    "\n",
    "Recall from our explanation in the last section that:\n",
    "\n",
    "- Odds Ratio (Posterior) = Odds Ratio (Prior) x Likelihood Ratio \n",
    "\n",
    "- Consider the SUM query, namely what is the SUM of all of the salmon easten on July 30th by all the balding bears in the database?\n",
    "\n",
    "- We know an attacker can simulate the Likelihood Ratio through many runs of this SUM query on the database.  \n",
    "\n",
    "- Note: The Likelihood Ratio can also be calculated mathematically for any probability distribution, but we will spare you the math here.\n",
    "\n",
    "- We know the Prior Odds Ratio because we know or can guess the mindset of our attacker, namely the threshold of the Posterior Odds Ratio which once exceeded the attacker will conclude Oski is in the database.\n",
    "\n",
    "- Here we assume that an Attacker will conclude Oski is in the database if his Posterior Odds Ratio exceeds 2. \n",
    "\n",
    "- Let **O be the outcome that the Differentially Privacy mechanism returns SUM >= 164**\n",
    "\n",
    "- Consider the SUM query for our example.\n",
    "\n",
    "- For the SUM query we need the **sensitivity** parameter set. Generally speaking, **sensitivity** of a SUM query is the maximum amount by which the outcome of a SUM query can differ in \"adjacent databases\", those that differ by one record, adding or subtracting a record from the database.  (We discuss **sensitivty** in detail in the in the 3rd notebook, The Laplacian Mechanism\"\n",
    "\n",
    "- Here we set the senstivity as a database owner would input as an estimate of how great the SUM may change with the additona or subtraction of one bear's eating habits for a day.  We call this the sensitivity $\\Delta$ for the SUM query. Here we set the sensitivity at 48 because no bear can possibly eat more than 48 salmon in one day. \n",
    "\n",
    "- In this example. we are looking for the ratio of the probability that SUM > 164 without Oski in the database over the probability of SUM > 164 when Oski is in the database.\n",
    "\n",
    "- The prior belief by our attacker is that the odds of Oski being in the database are 50-50.\n"
   ]
  },
  {
   "cell_type": "code",
   "execution_count": 49,
   "metadata": {},
   "outputs": [],
   "source": [
    "def laplaceMechanism(x, epsilon, sensitivity):\n",
    "    noisyX =  np.random.laplace(x, sensitivity/epsilon, 1)[0]\n",
    "    return noisyX\n",
    "\n",
    "def ANON_SUM(col, epsilon, sensitivity):\n",
    "    trueSum = np.sum(col)\n",
    "    noisySum = laplaceMechanism(trueSum, epsilon,sensitivity)\n",
    "    return noisySum"
   ]
  },
  {
   "cell_type": "markdown",
   "metadata": {},
   "source": [
    "**First, set $\\epsilon = 4$, a relatively high value (high privacy leakage) and a sensitivity $\\Delta$ = 20, a relatively \"normal\" range of brown bears (not taking into account an outlier like Oski). Run the queries first without Oski in the database, then with Oski in the databse 10,000 times each.**"
   ]
  },
  {
   "cell_type": "code",
   "execution_count": 52,
   "metadata": {},
   "outputs": [],
   "source": [
    "# Set Differential Privacy Parameters for Anonymous SUM Query\n",
    "# Run the sum query repeatedly  \n",
    "# Epsilon is high, (privacy leakage is high), sensitivity is low and thus even more revealing\n",
    "sensitivity = 20\n",
    "epsilon = 4\n",
    "col = baldingBears_no_Oski['Salmon']\n",
    "noisySums = []\n",
    "for i in range(10000):\n",
    "    noisySum = ANON_SUM(col, epsilon, sensitivity)  \n",
    "    noisySums.append(noisySum)"
   ]
  },
  {
   "cell_type": "code",
   "execution_count": 53,
   "metadata": {},
   "outputs": [],
   "source": [
    "a = sum(i > 164 for i in noisySums)"
   ]
  },
  {
   "cell_type": "code",
   "execution_count": 54,
   "metadata": {},
   "outputs": [
    {
     "data": {
      "text/markdown": [
       "Notice with these parameter settings, the number observations with sum >= 164 is 104!"
      ],
      "text/plain": [
       "<IPython.core.display.Markdown object>"
      ]
     },
     "execution_count": 54,
     "metadata": {},
     "output_type": "execute_result"
    }
   ],
   "source": [
    "md(\"Notice with these parameter settings, the number observations with sum >= 164 is {}!\".format(a))"
   ]
  },
  {
   "cell_type": "markdown",
   "metadata": {},
   "source": [
    "Now add Oski to the database and run the same queries again."
   ]
  },
  {
   "cell_type": "code",
   "execution_count": 56,
   "metadata": {},
   "outputs": [],
   "source": [
    "col = baldingBears['Salmon']\n",
    "# Run the sum query 10,000 times \n",
    "# Privacy leakage is relatively high, sensitivy is low and thus even more revealing\n",
    "noisySums = []\n",
    "for i in range(10000):\n",
    "    noisySum = ANON_SUM(col, epsilon, sensitivity)  \n",
    "    noisySums.append(noisySum)"
   ]
  },
  {
   "cell_type": "code",
   "execution_count": 57,
   "metadata": {},
   "outputs": [
    {
     "data": {
      "text/markdown": [
       "Notice with these parameter settings, the number observations with sum >= 164 is 9984!"
      ],
      "text/plain": [
       "<IPython.core.display.Markdown object>"
      ]
     },
     "execution_count": 57,
     "metadata": {},
     "output_type": "execute_result"
    }
   ],
   "source": [
    "b = sum(i > 164 for i in noisySums)\n",
    "md(\"Notice with these parameter settings, the number observations with sum >= 164 is {}!\".format(b))"
   ]
  },
  {
   "cell_type": "code",
   "execution_count": 58,
   "metadata": {},
   "outputs": [
    {
     "data": {
      "text/markdown": [
       "Because 96.0 is clearly higher than 2, the attacker will conclude Oski is in the database!"
      ],
      "text/plain": [
       "<IPython.core.display.Markdown object>"
      ]
     },
     "execution_count": 58,
     "metadata": {},
     "output_type": "execute_result"
    }
   ],
   "source": [
    "md(\"With these parameter settings, for the event O, the Likelihood Ratio is {} !\".format(round(b/a, 2)))\n",
    "md(\"Because {} is clearly higher than 2, the attacker will conclude Oski is in the database!\".format(round(b/a, 2)))"
   ]
  },
  {
   "cell_type": "markdown",
   "metadata": {},
   "source": [
    "**Second, make it harder for our attacker to breach his confidence threshold by setting our $\\epsilon$ privacy parameter lower, set the senstivity $\\Delta$ higher to protect a wider range of salmon eating by the bears.  Both of these setting lower epsilon, higher sensitivity, sets the mechanism up for increased privacy!\n",
    "Here we set the sensitivity = $48$ to cover the case where voracious eater like Oski may end up in the database of balding bears.Run the queries without Oski in the database, then with Oski in the database, 10,000 times each.**"
   ]
  },
  {
   "cell_type": "code",
   "execution_count": 84,
   "metadata": {},
   "outputs": [],
   "source": [
    "# Set Differential Privacy Parameters for Anonymous Sum\n",
    "sensitivity = 48\n",
    "epsilon = .75 #low epsilon, less privacy leakage\n",
    "col = baldingBears_no_Oski['Salmon']\n",
    "# Run the sum query 10,000 times \n",
    "# Privacy leakage is relatively high, sensitivy is low and thus even more revealing\n",
    "noisySums = []\n",
    "for i in range(10000):\n",
    "    noisySum = ANON_SUM(col, epsilon, sensitivity)  \n",
    "    noisySums.append(noisySum)"
   ]
  },
  {
   "cell_type": "code",
   "execution_count": 85,
   "metadata": {},
   "outputs": [
    {
     "data": {
      "text/markdown": [
       "Notice with these parameter settings, the number observations with sum >= 164 is 3647!"
      ],
      "text/plain": [
       "<IPython.core.display.Markdown object>"
      ]
     },
     "execution_count": 85,
     "metadata": {},
     "output_type": "execute_result"
    }
   ],
   "source": [
    "a = sum(i > 164 for i in noisySums)\n",
    "md(\"Notice with these parameter settings, the number observations with sum >= 164 is {}!\".format(a))"
   ]
  },
  {
   "cell_type": "markdown",
   "metadata": {},
   "source": [
    "Next run the queries again with these same settings and include Oski in the database."
   ]
  },
  {
   "cell_type": "code",
   "execution_count": 86,
   "metadata": {},
   "outputs": [],
   "source": [
    "# Set Differential Privacy Parameters for Anonymous Sum\n",
    "col = baldingBears['Salmon']\n",
    "# Run the sum query 10,000 times \n",
    "# Privacy leakage is relatively high, sensitivy is low and thus even more revealing\n",
    "noisySums = []\n",
    "for i in range(10000):\n",
    "    noisySum = ANON_SUM(col, epsilon, u)  \n",
    "    noisySums.append(noisySum)"
   ]
  },
  {
   "cell_type": "code",
   "execution_count": 87,
   "metadata": {},
   "outputs": [
    {
     "data": {
      "text/markdown": [
       "Notice with these parameter settings, the number observations with sum >= 164 is 7098!"
      ],
      "text/plain": [
       "<IPython.core.display.Markdown object>"
      ]
     },
     "execution_count": 87,
     "metadata": {},
     "output_type": "execute_result"
    }
   ],
   "source": [
    "b = sum(i > 164 for i in noisySums)\n",
    "md(\"Notice with these parameter settings, the number observations with sum >= 164 is {}!\".format(b))"
   ]
  },
  {
   "cell_type": "code",
   "execution_count": 88,
   "metadata": {},
   "outputs": [
    {
     "data": {
      "text/markdown": [
       "With these parameter settings, for the event O, the Likelihood Ratio is 1.95 !"
      ],
      "text/plain": [
       "<IPython.core.display.Markdown object>"
      ]
     },
     "execution_count": 88,
     "metadata": {},
     "output_type": "execute_result"
    }
   ],
   "source": [
    "md(\"With these parameter settings, for the event O, the Likelihood Ratio is {} !\".format(round(b/a, 2)))"
   ]
  },
  {
   "cell_type": "code",
   "execution_count": 89,
   "metadata": {},
   "outputs": [
    {
     "data": {
      "text/markdown": [
       "Because 1.95 is lower than 2, the attacker will not be able to conclude Oski is in the database!"
      ],
      "text/plain": [
       "<IPython.core.display.Markdown object>"
      ]
     },
     "execution_count": 89,
     "metadata": {},
     "output_type": "execute_result"
    }
   ],
   "source": [
    "md(\"Because {} is lower than 2, the attacker will not be able to conclude Oski is in the database!\".format(round(b/a, 2)))"
   ]
  },
  {
   "cell_type": "code",
   "execution_count": 91,
   "metadata": {},
   "outputs": [
    {
     "data": {
      "text/markdown": [
       "Oski is protected in the threat model, by the parameters epsilon = 0.75 and sensitivity = 48!"
      ],
      "text/plain": [
       "<IPython.core.display.Markdown object>"
      ]
     },
     "execution_count": 91,
     "metadata": {},
     "output_type": "execute_result"
    }
   ],
   "source": [
    "md(\"Oski is protected in the threat model, by the parameters epsilon = {} and sensitivity = {}!\".format(epsilon, sensitivity))"
   ]
  },
  {
   "cell_type": "markdown",
   "metadata": {},
   "source": [
    "***"
   ]
  },
  {
   "cell_type": "markdown",
   "metadata": {},
   "source": [
    "### 3.3 Deeper Dive into a Bayesian Threat Model (Optional)\n",
    "\n",
    "Recall the standard definition of a Bayesian inference. \n",
    "Let \n",
    "\n",
    "- O = Outcome O, \n",
    "\n",
    "- noOksi mean Oski is not in the database\n",
    "\n",
    "- Oski mean Oski is in the database.  \n",
    "\n",
    "We know the following.\n",
    "\n",
    "$$P(noOski | O) = \\Bigg [\\frac{P(noOski)*P(O | noOski)}{P(O)}\\Bigg ]$$\n",
    "\n",
    "$$P(Oski | O) = \\Bigg [\\frac{P(Oski)*P(O | Oski)}{P(O)}\\Bigg ]$$"
   ]
  },
  {
   "cell_type": "markdown",
   "metadata": {},
   "source": [
    "We also know that the Odds Ratio is the following.\n",
    "\n",
    "$$\\frac{P(noOski)}{P(Oski)}$$"
   ]
  },
  {
   "cell_type": "markdown",
   "metadata": {},
   "source": [
    "Here the Odds Ratio is the \"Prior\" the belief that the attacker has prior to seeing any of the data in the database. In the example above we assumed the Attacker had good reasons to believe Oksi we in the database and thought the odds of Oksi going bald was 50% thus the Odds Ratio was 1."
   ]
  },
  {
   "cell_type": "markdown",
   "metadata": {},
   "source": [
    "Take the ratio of the first two equations, placing the second in the numerator and the first in the demoninator. (It does not really matter).  We get the following.\n",
    "\n",
    "$$ \\frac{P(Oski | O)}{P(noOski | O)} = \\Bigg[ \\frac{P(Oski) * P(O|Oski)}{P(noOski) * P(O | noOski)}\\Bigg ]= $$ \n",
    "\n"
   ]
  },
  {
   "cell_type": "markdown",
   "metadata": {},
   "source": [
    "\n",
    "$$ \\Bigg[ \\frac{P(Oski)}{P(noOski)} \\Bigg ] * \\Bigg [\\frac{P(O | Oski)}{P(O | noOski}\\Bigg ] $$\n",
    "\n",
    "Simply, "
   ]
  },
  {
   "cell_type": "markdown",
   "metadata": {},
   "source": [
    "$$ \\frac{P(Oski | O)}{P(noOski | O)} = \\Bigg[ \\frac{P(Oski)}{P(noOski)} \\Bigg ] * \\Bigg [\\frac{P(O | Oski)}{P(O | noOski}\\Bigg ] $$"
   ]
  },
  {
   "cell_type": "markdown",
   "metadata": {},
   "source": [
    "**This is very simply the Odds Ratio after observing the database* equal to the Odds Ratio prior to observing the database (the Adversary's prior belief, multiplied by the **Likelhood Ratio of the outcome, conditioned on whether or not Oski is in the database!**"
   ]
  },
  {
   "cell_type": "markdown",
   "metadata": {},
   "source": [
    "To summarize: \n",
    "\n",
    "- First term on the right hand side is assumed about the Attacker, (Prior Odds Ratio)\n",
    "- Second term is observed through statistical runs of the query (or computed mathematically) \n",
    "- Product on the right hand side yeilds the Attackers belief after observing the database. \n",
    "\n",
    "In the previous simple example above we set the threshold for for a successful attack at 2, but this threshold could be set for a practical privacy level that is use case dependent.  "
   ]
  }
 ],
 "metadata": {
  "kernelspec": {
   "display_name": "Python 3",
   "language": "python",
   "name": "python3"
  },
  "language_info": {
   "codemirror_mode": {
    "name": "ipython",
    "version": 3
   },
   "file_extension": ".py",
   "mimetype": "text/x-python",
   "name": "python",
   "nbconvert_exporter": "python",
   "pygments_lexer": "ipython3",
   "version": "3.7.4"
  }
 },
 "nbformat": 4,
 "nbformat_minor": 4
}
